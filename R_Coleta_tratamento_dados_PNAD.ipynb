{
  "cells": [
    {
      "cell_type": "markdown",
      "metadata": {
        "id": "view-in-github",
        "colab_type": "text"
      },
      "source": [
        "<a href=\"https://colab.research.google.com/github/barbaradinizabreu/pesquisa-subjetividade/blob/main/R_Coleta_tratamento_dados_PNAD.ipynb\" target=\"_parent\"><img src=\"https://colab.research.google.com/assets/colab-badge.svg\" alt=\"Open In Colab\"/></a>"
      ]
    },
    {
      "cell_type": "markdown",
      "metadata": {
        "id": "RfjXluBPGyCD"
      },
      "source": [
        "Notebook criado apenas para ser um rascunho e facilitar a coleta, tratamento e análise exploratória dos dados"
      ]
    },
    {
      "cell_type": "markdown",
      "metadata": {
        "id": "tgqbRa9MV8GO"
      },
      "source": [
        "Documentação: https://www.rdocumentation.org/\n",
        "\n"
      ]
    },
    {
      "cell_type": "markdown",
      "metadata": {
        "id": "7NFptCdBYqSG"
      },
      "source": [
        "**Dicas** (em Python):\n",
        "\n",
        "[Microdados em Python: um pacote para ler dados da PNAD e POF](https://medium.com/data-hackers/microdados-em-python-um-pacote-para-ler-dados-da-pnad-e-pof-e254cf18477d)\n",
        "\n",
        "[Como ler dados da PNS 2019 usando Python por meio do Google Colab](https://www.youtube.com/watch?v=k4fCnep7WlA) *não é o mesmo bando de dados, mas é parecido"
      ]
    },
    {
      "cell_type": "markdown",
      "metadata": {
        "id": "vmx6boUiMPwH"
      },
      "source": [
        "# Básico"
      ]
    },
    {
      "cell_type": "code",
      "execution_count": null,
      "metadata": {
        "colab": {
          "base_uri": "https://localhost:8080/"
        },
        "collapsed": true,
        "id": "ls8zrN-5_J3Z",
        "outputId": "3d498d67-2ecb-4c8b-fe3c-3da30ebdc4a0"
      },
      "outputs": [
        {
          "name": "stderr",
          "output_type": "stream",
          "text": [
            "Installing package into ‘/usr/local/lib/R/site-library’\n",
            "(as ‘lib’ is unspecified)\n",
            "\n",
            "Installing package into ‘/usr/local/lib/R/site-library’\n",
            "(as ‘lib’ is unspecified)\n",
            "\n"
          ]
        }
      ],
      "source": [
        "#pacotes necessários\n",
        "install.packages(\"dplyr\")\n",
        "install.packages(\"PNADcIBGE\")"
      ]
    },
    {
      "cell_type": "code",
      "execution_count": null,
      "metadata": {
        "collapsed": true,
        "id": "kbW37IOpGVKf"
      },
      "outputs": [],
      "source": [
        "#carregar pacotes\n",
        "library(dplyr)\n",
        "library(survey)\n",
        "library(PNADcIBGE)"
      ]
    },
    {
      "cell_type": "markdown",
      "metadata": {
        "id": "sSvDpkjAMSmh"
      },
      "source": [
        "# Dados"
      ]
    },
    {
      "cell_type": "code",
      "execution_count": null,
      "metadata": {
        "colab": {
          "background_save": true
        },
        "id": "dEDhyDBWB1lu"
      },
      "outputs": [],
      "source": [
        "dados_2023_3 <- get_pnadc(year=2023, quarter=3, design=FALSE, labels=TRUE)"
      ]
    },
    {
      "cell_type": "markdown",
      "metadata": {
        "id": "9vI3MTpGGHLS"
      },
      "source": [
        "`design = FALSE` retorna um tibble (uma espécie de dataframe do R), `TRUE` retorna um survey\n",
        "\n",
        "Adicionar parâmetro `vars` para importar apenas as variáveis necessárias, por default todas são importadas\n",
        "\n",
        "Exemplo:\n",
        "\n",
        "    variaveis_selecionadas <- c(\"UF\",\"V2001\",\"V2005\",\"V2007\")\n",
        "    \n",
        "    dadosPNADc <- get_pnadc(year=2017, quarter=4, vars=variaveis_selecionadas)"
      ]
    },
    {
      "cell_type": "code",
      "execution_count": null,
      "metadata": {
        "colab": {
          "background_save": true
        },
        "id": "G4kh01G0Cb1_",
        "outputId": "26030448-6f5b-4b22-ec0f-5c371aad8a03"
      },
      "outputs": [
        {
          "data": {
            "text/html": [
              "<style>\n",
              ".list-inline {list-style: none; margin:0; padding: 0}\n",
              ".list-inline>li {display: inline-block}\n",
              ".list-inline>li:not(:last-child)::after {content: \"\\00b7\"; padding: 0 .5ex}\n",
              "</style>\n",
              "<ol class=list-inline><li>'Ano'</li><li>'Trimestre'</li><li>'UF'</li><li>'Capital'</li><li>'RM_RIDE'</li><li>'UPA'</li><li>'Estrato'</li><li>'V1008'</li><li>'V1014'</li><li>'V1016'</li><li>'V1022'</li><li>'V1023'</li><li>'V1027'</li><li>'V1028'</li><li>'V1029'</li><li>'V1033'</li><li>'posest'</li><li>'posest_sxi'</li><li>'V2001'</li><li>'V2003'</li><li>'V2005'</li><li>'V2007'</li><li>'V2008'</li><li>'V20081'</li><li>'V20082'</li><li>'V2009'</li><li>'V2010'</li><li>'V3001'</li><li>'V3002'</li><li>'V3002A'</li><li>'V3003'</li><li>'V3003A'</li><li>'V3004'</li><li>'V3005'</li><li>'V3005A'</li><li>'V3006'</li><li>'V3006A'</li><li>'V3007'</li><li>'V3008'</li><li>'V3009'</li><li>'V3009A'</li><li>'V3010'</li><li>'V3011'</li><li>'V3011A'</li><li>'V3012'</li><li>'V3013'</li><li>'V3013A'</li><li>'V3013B'</li><li>'V3014'</li><li>'V4001'</li><li>'V4002'</li><li>'V4003'</li><li>'V4004'</li><li>'V4005'</li><li>'V4006'</li><li>'V4006A'</li><li>'V4007'</li><li>'V4008'</li><li>'V40081'</li><li>'V40082'</li><li>'V40083'</li><li>'V4009'</li><li>'V4010'</li><li>'V4012'</li><li>'V40121'</li><li>'V4013'</li><li>'V40132'</li><li>'V40132A'</li><li>'V4014'</li><li>'V4015'</li><li>'V40151'</li><li>'V401511'</li><li>'V401512'</li><li>'V4016'</li><li>'V40161'</li><li>'V40162'</li><li>'V40163'</li><li>'V4017'</li><li>'V40171'</li><li>'V401711'</li><li>'V4018'</li><li>'V40181'</li><li>'V40182'</li><li>'V40183'</li><li>'V4019'</li><li>'V4020'</li><li>'V4021'</li><li>'V4022'</li><li>'V4024'</li><li>'V4025'</li><li>'V4026'</li><li>'V4027'</li><li>'V4028'</li><li>'V4029'</li><li>'V4032'</li><li>'V4033'</li><li>'V40331'</li><li>'V403311'</li><li>'V403312'</li><li>'V40332'</li><li>'V403321'</li><li>'V403322'</li><li>'V40333'</li><li>'V403331'</li><li>'V4034'</li><li>'V40341'</li><li>'V403411'</li><li>'V403412'</li><li>'V40342'</li><li>'V403421'</li><li>'V403422'</li><li>'V4039'</li><li>'V4039C'</li><li>'V4040'</li><li>'V40401'</li><li>'V40402'</li><li>'V40403'</li><li>'V4041'</li><li>'V4043'</li><li>'V40431'</li><li>'V4044'</li><li>'V4045'</li><li>'V4046'</li><li>'V4047'</li><li>'V4048'</li><li>'V4049'</li><li>'V4050'</li><li>'V40501'</li><li>'V405011'</li><li>'V405012'</li><li>'V40502'</li><li>'V405021'</li><li>'V405022'</li><li>'V40503'</li><li>'V405031'</li><li>'V4051'</li><li>'V40511'</li><li>'V405111'</li><li>'V405112'</li><li>'V40512'</li><li>'V405121'</li><li>'V405122'</li><li>'V4056'</li><li>'V4056C'</li><li>'V4057'</li><li>'V4058'</li><li>'V40581'</li><li>'V405811'</li><li>'V405812'</li><li>'V40582'</li><li>'V405821'</li><li>'V405822'</li><li>'V40583'</li><li>'V405831'</li><li>'V40584'</li><li>'V4059'</li><li>'V40591'</li><li>'V405911'</li><li>'V405912'</li><li>'V40592'</li><li>'V405921'</li><li>'V405922'</li><li>'V4062'</li><li>'V4062C'</li><li>'V4063'</li><li>'V4063A'</li><li>'V4064'</li><li>'V4064A'</li><li>'V4071'</li><li>'V4072'</li><li>'V4072A'</li><li>'V4073'</li><li>'V4074'</li><li>'V4074A'</li><li>'V4075A'</li><li>'V4075A1'</li><li>'V4076'</li><li>'V40761'</li><li>'V40762'</li><li>'V40763'</li><li>'V4077'</li><li>'V4078'</li><li>'V4078A'</li><li>'V4082'</li><li>'VD2002'</li><li>'VD2003'</li><li>'VD2004'</li><li>'VD2006'</li><li>'VD3004'</li><li>'VD3005'</li><li>'VD3006'</li><li>'VD4001'</li><li>'VD4002'</li><li>'VD4003'</li><li>'VD4004'</li><li>'VD4004A'</li><li>'VD4005'</li><li>'VD4007'</li><li>'VD4008'</li><li>'VD4009'</li><li>⋯</li><li>'V1028004'</li><li>'V1028005'</li><li>'V1028006'</li><li>'V1028007'</li><li>'V1028008'</li><li>'V1028009'</li><li>'V1028010'</li><li>'V1028011'</li><li>'V1028012'</li><li>'V1028013'</li><li>'V1028014'</li><li>'V1028015'</li><li>'V1028016'</li><li>'V1028017'</li><li>'V1028018'</li><li>'V1028019'</li><li>'V1028020'</li><li>'V1028021'</li><li>'V1028022'</li><li>'V1028023'</li><li>'V1028024'</li><li>'V1028025'</li><li>'V1028026'</li><li>'V1028027'</li><li>'V1028028'</li><li>'V1028029'</li><li>'V1028030'</li><li>'V1028031'</li><li>'V1028032'</li><li>'V1028033'</li><li>'V1028034'</li><li>'V1028035'</li><li>'V1028036'</li><li>'V1028037'</li><li>'V1028038'</li><li>'V1028039'</li><li>'V1028040'</li><li>'V1028041'</li><li>'V1028042'</li><li>'V1028043'</li><li>'V1028044'</li><li>'V1028045'</li><li>'V1028046'</li><li>'V1028047'</li><li>'V1028048'</li><li>'V1028049'</li><li>'V1028050'</li><li>'V1028051'</li><li>'V1028052'</li><li>'V1028053'</li><li>'V1028054'</li><li>'V1028055'</li><li>'V1028056'</li><li>'V1028057'</li><li>'V1028058'</li><li>'V1028059'</li><li>'V1028060'</li><li>'V1028061'</li><li>'V1028062'</li><li>'V1028063'</li><li>'V1028064'</li><li>'V1028065'</li><li>'V1028066'</li><li>'V1028067'</li><li>'V1028068'</li><li>'V1028069'</li><li>'V1028070'</li><li>'V1028071'</li><li>'V1028072'</li><li>'V1028073'</li><li>'V1028074'</li><li>'V1028075'</li><li>'V1028076'</li><li>'V1028077'</li><li>'V1028078'</li><li>'V1028079'</li><li>'V1028080'</li><li>'V1028081'</li><li>'V1028082'</li><li>'V1028083'</li><li>'V1028084'</li><li>'V1028085'</li><li>'V1028086'</li><li>'V1028087'</li><li>'V1028088'</li><li>'V1028089'</li><li>'V1028090'</li><li>'V1028091'</li><li>'V1028092'</li><li>'V1028093'</li><li>'V1028094'</li><li>'V1028095'</li><li>'V1028096'</li><li>'V1028097'</li><li>'V1028098'</li><li>'V1028099'</li><li>'V1028100'</li><li>'V1028101'</li><li>'V1028102'</li><li>'V1028103'</li><li>'V1028104'</li><li>'V1028105'</li><li>'V1028106'</li><li>'V1028107'</li><li>'V1028108'</li><li>'V1028109'</li><li>'V1028110'</li><li>'V1028111'</li><li>'V1028112'</li><li>'V1028113'</li><li>'V1028114'</li><li>'V1028115'</li><li>'V1028116'</li><li>'V1028117'</li><li>'V1028118'</li><li>'V1028119'</li><li>'V1028120'</li><li>'V1028121'</li><li>'V1028122'</li><li>'V1028123'</li><li>'V1028124'</li><li>'V1028125'</li><li>'V1028126'</li><li>'V1028127'</li><li>'V1028128'</li><li>'V1028129'</li><li>'V1028130'</li><li>'V1028131'</li><li>'V1028132'</li><li>'V1028133'</li><li>'V1028134'</li><li>'V1028135'</li><li>'V1028136'</li><li>'V1028137'</li><li>'V1028138'</li><li>'V1028139'</li><li>'V1028140'</li><li>'V1028141'</li><li>'V1028142'</li><li>'V1028143'</li><li>'V1028144'</li><li>'V1028145'</li><li>'V1028146'</li><li>'V1028147'</li><li>'V1028148'</li><li>'V1028149'</li><li>'V1028150'</li><li>'V1028151'</li><li>'V1028152'</li><li>'V1028153'</li><li>'V1028154'</li><li>'V1028155'</li><li>'V1028156'</li><li>'V1028157'</li><li>'V1028158'</li><li>'V1028159'</li><li>'V1028160'</li><li>'V1028161'</li><li>'V1028162'</li><li>'V1028163'</li><li>'V1028164'</li><li>'V1028165'</li><li>'V1028166'</li><li>'V1028167'</li><li>'V1028168'</li><li>'V1028169'</li><li>'V1028170'</li><li>'V1028171'</li><li>'V1028172'</li><li>'V1028173'</li><li>'V1028174'</li><li>'V1028175'</li><li>'V1028176'</li><li>'V1028177'</li><li>'V1028178'</li><li>'V1028179'</li><li>'V1028180'</li><li>'V1028181'</li><li>'V1028182'</li><li>'V1028183'</li><li>'V1028184'</li><li>'V1028185'</li><li>'V1028186'</li><li>'V1028187'</li><li>'V1028188'</li><li>'V1028189'</li><li>'V1028190'</li><li>'V1028191'</li><li>'V1028192'</li><li>'V1028193'</li><li>'V1028194'</li><li>'V1028195'</li><li>'V1028196'</li><li>'V1028197'</li><li>'V1028198'</li><li>'V1028199'</li><li>'V1028200'</li><li>'ID_DOMICILIO'</li><li>'Habitual'</li><li>'Efetivo'</li></ol>\n"
            ],
            "text/latex": "\\begin{enumerate*}\n\\item 'Ano'\n\\item 'Trimestre'\n\\item 'UF'\n\\item 'Capital'\n\\item 'RM\\_RIDE'\n\\item 'UPA'\n\\item 'Estrato'\n\\item 'V1008'\n\\item 'V1014'\n\\item 'V1016'\n\\item 'V1022'\n\\item 'V1023'\n\\item 'V1027'\n\\item 'V1028'\n\\item 'V1029'\n\\item 'V1033'\n\\item 'posest'\n\\item 'posest\\_sxi'\n\\item 'V2001'\n\\item 'V2003'\n\\item 'V2005'\n\\item 'V2007'\n\\item 'V2008'\n\\item 'V20081'\n\\item 'V20082'\n\\item 'V2009'\n\\item 'V2010'\n\\item 'V3001'\n\\item 'V3002'\n\\item 'V3002A'\n\\item 'V3003'\n\\item 'V3003A'\n\\item 'V3004'\n\\item 'V3005'\n\\item 'V3005A'\n\\item 'V3006'\n\\item 'V3006A'\n\\item 'V3007'\n\\item 'V3008'\n\\item 'V3009'\n\\item 'V3009A'\n\\item 'V3010'\n\\item 'V3011'\n\\item 'V3011A'\n\\item 'V3012'\n\\item 'V3013'\n\\item 'V3013A'\n\\item 'V3013B'\n\\item 'V3014'\n\\item 'V4001'\n\\item 'V4002'\n\\item 'V4003'\n\\item 'V4004'\n\\item 'V4005'\n\\item 'V4006'\n\\item 'V4006A'\n\\item 'V4007'\n\\item 'V4008'\n\\item 'V40081'\n\\item 'V40082'\n\\item 'V40083'\n\\item 'V4009'\n\\item 'V4010'\n\\item 'V4012'\n\\item 'V40121'\n\\item 'V4013'\n\\item 'V40132'\n\\item 'V40132A'\n\\item 'V4014'\n\\item 'V4015'\n\\item 'V40151'\n\\item 'V401511'\n\\item 'V401512'\n\\item 'V4016'\n\\item 'V40161'\n\\item 'V40162'\n\\item 'V40163'\n\\item 'V4017'\n\\item 'V40171'\n\\item 'V401711'\n\\item 'V4018'\n\\item 'V40181'\n\\item 'V40182'\n\\item 'V40183'\n\\item 'V4019'\n\\item 'V4020'\n\\item 'V4021'\n\\item 'V4022'\n\\item 'V4024'\n\\item 'V4025'\n\\item 'V4026'\n\\item 'V4027'\n\\item 'V4028'\n\\item 'V4029'\n\\item 'V4032'\n\\item 'V4033'\n\\item 'V40331'\n\\item 'V403311'\n\\item 'V403312'\n\\item 'V40332'\n\\item 'V403321'\n\\item 'V403322'\n\\item 'V40333'\n\\item 'V403331'\n\\item 'V4034'\n\\item 'V40341'\n\\item 'V403411'\n\\item 'V403412'\n\\item 'V40342'\n\\item 'V403421'\n\\item 'V403422'\n\\item 'V4039'\n\\item 'V4039C'\n\\item 'V4040'\n\\item 'V40401'\n\\item 'V40402'\n\\item 'V40403'\n\\item 'V4041'\n\\item 'V4043'\n\\item 'V40431'\n\\item 'V4044'\n\\item 'V4045'\n\\item 'V4046'\n\\item 'V4047'\n\\item 'V4048'\n\\item 'V4049'\n\\item 'V4050'\n\\item 'V40501'\n\\item 'V405011'\n\\item 'V405012'\n\\item 'V40502'\n\\item 'V405021'\n\\item 'V405022'\n\\item 'V40503'\n\\item 'V405031'\n\\item 'V4051'\n\\item 'V40511'\n\\item 'V405111'\n\\item 'V405112'\n\\item 'V40512'\n\\item 'V405121'\n\\item 'V405122'\n\\item 'V4056'\n\\item 'V4056C'\n\\item 'V4057'\n\\item 'V4058'\n\\item 'V40581'\n\\item 'V405811'\n\\item 'V405812'\n\\item 'V40582'\n\\item 'V405821'\n\\item 'V405822'\n\\item 'V40583'\n\\item 'V405831'\n\\item 'V40584'\n\\item 'V4059'\n\\item 'V40591'\n\\item 'V405911'\n\\item 'V405912'\n\\item 'V40592'\n\\item 'V405921'\n\\item 'V405922'\n\\item 'V4062'\n\\item 'V4062C'\n\\item 'V4063'\n\\item 'V4063A'\n\\item 'V4064'\n\\item 'V4064A'\n\\item 'V4071'\n\\item 'V4072'\n\\item 'V4072A'\n\\item 'V4073'\n\\item 'V4074'\n\\item 'V4074A'\n\\item 'V4075A'\n\\item 'V4075A1'\n\\item 'V4076'\n\\item 'V40761'\n\\item 'V40762'\n\\item 'V40763'\n\\item 'V4077'\n\\item 'V4078'\n\\item 'V4078A'\n\\item 'V4082'\n\\item 'VD2002'\n\\item 'VD2003'\n\\item 'VD2004'\n\\item 'VD2006'\n\\item 'VD3004'\n\\item 'VD3005'\n\\item 'VD3006'\n\\item 'VD4001'\n\\item 'VD4002'\n\\item 'VD4003'\n\\item 'VD4004'\n\\item 'VD4004A'\n\\item 'VD4005'\n\\item 'VD4007'\n\\item 'VD4008'\n\\item 'VD4009'\n\\item ⋯\n\\item 'V1028004'\n\\item 'V1028005'\n\\item 'V1028006'\n\\item 'V1028007'\n\\item 'V1028008'\n\\item 'V1028009'\n\\item 'V1028010'\n\\item 'V1028011'\n\\item 'V1028012'\n\\item 'V1028013'\n\\item 'V1028014'\n\\item 'V1028015'\n\\item 'V1028016'\n\\item 'V1028017'\n\\item 'V1028018'\n\\item 'V1028019'\n\\item 'V1028020'\n\\item 'V1028021'\n\\item 'V1028022'\n\\item 'V1028023'\n\\item 'V1028024'\n\\item 'V1028025'\n\\item 'V1028026'\n\\item 'V1028027'\n\\item 'V1028028'\n\\item 'V1028029'\n\\item 'V1028030'\n\\item 'V1028031'\n\\item 'V1028032'\n\\item 'V1028033'\n\\item 'V1028034'\n\\item 'V1028035'\n\\item 'V1028036'\n\\item 'V1028037'\n\\item 'V1028038'\n\\item 'V1028039'\n\\item 'V1028040'\n\\item 'V1028041'\n\\item 'V1028042'\n\\item 'V1028043'\n\\item 'V1028044'\n\\item 'V1028045'\n\\item 'V1028046'\n\\item 'V1028047'\n\\item 'V1028048'\n\\item 'V1028049'\n\\item 'V1028050'\n\\item 'V1028051'\n\\item 'V1028052'\n\\item 'V1028053'\n\\item 'V1028054'\n\\item 'V1028055'\n\\item 'V1028056'\n\\item 'V1028057'\n\\item 'V1028058'\n\\item 'V1028059'\n\\item 'V1028060'\n\\item 'V1028061'\n\\item 'V1028062'\n\\item 'V1028063'\n\\item 'V1028064'\n\\item 'V1028065'\n\\item 'V1028066'\n\\item 'V1028067'\n\\item 'V1028068'\n\\item 'V1028069'\n\\item 'V1028070'\n\\item 'V1028071'\n\\item 'V1028072'\n\\item 'V1028073'\n\\item 'V1028074'\n\\item 'V1028075'\n\\item 'V1028076'\n\\item 'V1028077'\n\\item 'V1028078'\n\\item 'V1028079'\n\\item 'V1028080'\n\\item 'V1028081'\n\\item 'V1028082'\n\\item 'V1028083'\n\\item 'V1028084'\n\\item 'V1028085'\n\\item 'V1028086'\n\\item 'V1028087'\n\\item 'V1028088'\n\\item 'V1028089'\n\\item 'V1028090'\n\\item 'V1028091'\n\\item 'V1028092'\n\\item 'V1028093'\n\\item 'V1028094'\n\\item 'V1028095'\n\\item 'V1028096'\n\\item 'V1028097'\n\\item 'V1028098'\n\\item 'V1028099'\n\\item 'V1028100'\n\\item 'V1028101'\n\\item 'V1028102'\n\\item 'V1028103'\n\\item 'V1028104'\n\\item 'V1028105'\n\\item 'V1028106'\n\\item 'V1028107'\n\\item 'V1028108'\n\\item 'V1028109'\n\\item 'V1028110'\n\\item 'V1028111'\n\\item 'V1028112'\n\\item 'V1028113'\n\\item 'V1028114'\n\\item 'V1028115'\n\\item 'V1028116'\n\\item 'V1028117'\n\\item 'V1028118'\n\\item 'V1028119'\n\\item 'V1028120'\n\\item 'V1028121'\n\\item 'V1028122'\n\\item 'V1028123'\n\\item 'V1028124'\n\\item 'V1028125'\n\\item 'V1028126'\n\\item 'V1028127'\n\\item 'V1028128'\n\\item 'V1028129'\n\\item 'V1028130'\n\\item 'V1028131'\n\\item 'V1028132'\n\\item 'V1028133'\n\\item 'V1028134'\n\\item 'V1028135'\n\\item 'V1028136'\n\\item 'V1028137'\n\\item 'V1028138'\n\\item 'V1028139'\n\\item 'V1028140'\n\\item 'V1028141'\n\\item 'V1028142'\n\\item 'V1028143'\n\\item 'V1028144'\n\\item 'V1028145'\n\\item 'V1028146'\n\\item 'V1028147'\n\\item 'V1028148'\n\\item 'V1028149'\n\\item 'V1028150'\n\\item 'V1028151'\n\\item 'V1028152'\n\\item 'V1028153'\n\\item 'V1028154'\n\\item 'V1028155'\n\\item 'V1028156'\n\\item 'V1028157'\n\\item 'V1028158'\n\\item 'V1028159'\n\\item 'V1028160'\n\\item 'V1028161'\n\\item 'V1028162'\n\\item 'V1028163'\n\\item 'V1028164'\n\\item 'V1028165'\n\\item 'V1028166'\n\\item 'V1028167'\n\\item 'V1028168'\n\\item 'V1028169'\n\\item 'V1028170'\n\\item 'V1028171'\n\\item 'V1028172'\n\\item 'V1028173'\n\\item 'V1028174'\n\\item 'V1028175'\n\\item 'V1028176'\n\\item 'V1028177'\n\\item 'V1028178'\n\\item 'V1028179'\n\\item 'V1028180'\n\\item 'V1028181'\n\\item 'V1028182'\n\\item 'V1028183'\n\\item 'V1028184'\n\\item 'V1028185'\n\\item 'V1028186'\n\\item 'V1028187'\n\\item 'V1028188'\n\\item 'V1028189'\n\\item 'V1028190'\n\\item 'V1028191'\n\\item 'V1028192'\n\\item 'V1028193'\n\\item 'V1028194'\n\\item 'V1028195'\n\\item 'V1028196'\n\\item 'V1028197'\n\\item 'V1028198'\n\\item 'V1028199'\n\\item 'V1028200'\n\\item 'ID\\_DOMICILIO'\n\\item 'Habitual'\n\\item 'Efetivo'\n\\end{enumerate*}\n",
            "text/markdown": "1. 'Ano'\n2. 'Trimestre'\n3. 'UF'\n4. 'Capital'\n5. 'RM_RIDE'\n6. 'UPA'\n7. 'Estrato'\n8. 'V1008'\n9. 'V1014'\n10. 'V1016'\n11. 'V1022'\n12. 'V1023'\n13. 'V1027'\n14. 'V1028'\n15. 'V1029'\n16. 'V1033'\n17. 'posest'\n18. 'posest_sxi'\n19. 'V2001'\n20. 'V2003'\n21. 'V2005'\n22. 'V2007'\n23. 'V2008'\n24. 'V20081'\n25. 'V20082'\n26. 'V2009'\n27. 'V2010'\n28. 'V3001'\n29. 'V3002'\n30. 'V3002A'\n31. 'V3003'\n32. 'V3003A'\n33. 'V3004'\n34. 'V3005'\n35. 'V3005A'\n36. 'V3006'\n37. 'V3006A'\n38. 'V3007'\n39. 'V3008'\n40. 'V3009'\n41. 'V3009A'\n42. 'V3010'\n43. 'V3011'\n44. 'V3011A'\n45. 'V3012'\n46. 'V3013'\n47. 'V3013A'\n48. 'V3013B'\n49. 'V3014'\n50. 'V4001'\n51. 'V4002'\n52. 'V4003'\n53. 'V4004'\n54. 'V4005'\n55. 'V4006'\n56. 'V4006A'\n57. 'V4007'\n58. 'V4008'\n59. 'V40081'\n60. 'V40082'\n61. 'V40083'\n62. 'V4009'\n63. 'V4010'\n64. 'V4012'\n65. 'V40121'\n66. 'V4013'\n67. 'V40132'\n68. 'V40132A'\n69. 'V4014'\n70. 'V4015'\n71. 'V40151'\n72. 'V401511'\n73. 'V401512'\n74. 'V4016'\n75. 'V40161'\n76. 'V40162'\n77. 'V40163'\n78. 'V4017'\n79. 'V40171'\n80. 'V401711'\n81. 'V4018'\n82. 'V40181'\n83. 'V40182'\n84. 'V40183'\n85. 'V4019'\n86. 'V4020'\n87. 'V4021'\n88. 'V4022'\n89. 'V4024'\n90. 'V4025'\n91. 'V4026'\n92. 'V4027'\n93. 'V4028'\n94. 'V4029'\n95. 'V4032'\n96. 'V4033'\n97. 'V40331'\n98. 'V403311'\n99. 'V403312'\n100. 'V40332'\n101. 'V403321'\n102. 'V403322'\n103. 'V40333'\n104. 'V403331'\n105. 'V4034'\n106. 'V40341'\n107. 'V403411'\n108. 'V403412'\n109. 'V40342'\n110. 'V403421'\n111. 'V403422'\n112. 'V4039'\n113. 'V4039C'\n114. 'V4040'\n115. 'V40401'\n116. 'V40402'\n117. 'V40403'\n118. 'V4041'\n119. 'V4043'\n120. 'V40431'\n121. 'V4044'\n122. 'V4045'\n123. 'V4046'\n124. 'V4047'\n125. 'V4048'\n126. 'V4049'\n127. 'V4050'\n128. 'V40501'\n129. 'V405011'\n130. 'V405012'\n131. 'V40502'\n132. 'V405021'\n133. 'V405022'\n134. 'V40503'\n135. 'V405031'\n136. 'V4051'\n137. 'V40511'\n138. 'V405111'\n139. 'V405112'\n140. 'V40512'\n141. 'V405121'\n142. 'V405122'\n143. 'V4056'\n144. 'V4056C'\n145. 'V4057'\n146. 'V4058'\n147. 'V40581'\n148. 'V405811'\n149. 'V405812'\n150. 'V40582'\n151. 'V405821'\n152. 'V405822'\n153. 'V40583'\n154. 'V405831'\n155. 'V40584'\n156. 'V4059'\n157. 'V40591'\n158. 'V405911'\n159. 'V405912'\n160. 'V40592'\n161. 'V405921'\n162. 'V405922'\n163. 'V4062'\n164. 'V4062C'\n165. 'V4063'\n166. 'V4063A'\n167. 'V4064'\n168. 'V4064A'\n169. 'V4071'\n170. 'V4072'\n171. 'V4072A'\n172. 'V4073'\n173. 'V4074'\n174. 'V4074A'\n175. 'V4075A'\n176. 'V4075A1'\n177. 'V4076'\n178. 'V40761'\n179. 'V40762'\n180. 'V40763'\n181. 'V4077'\n182. 'V4078'\n183. 'V4078A'\n184. 'V4082'\n185. 'VD2002'\n186. 'VD2003'\n187. 'VD2004'\n188. 'VD2006'\n189. 'VD3004'\n190. 'VD3005'\n191. 'VD3006'\n192. 'VD4001'\n193. 'VD4002'\n194. 'VD4003'\n195. 'VD4004'\n196. 'VD4004A'\n197. 'VD4005'\n198. 'VD4007'\n199. 'VD4008'\n200. 'VD4009'\n201. ⋯\n202. 'V1028004'\n203. 'V1028005'\n204. 'V1028006'\n205. 'V1028007'\n206. 'V1028008'\n207. 'V1028009'\n208. 'V1028010'\n209. 'V1028011'\n210. 'V1028012'\n211. 'V1028013'\n212. 'V1028014'\n213. 'V1028015'\n214. 'V1028016'\n215. 'V1028017'\n216. 'V1028018'\n217. 'V1028019'\n218. 'V1028020'\n219. 'V1028021'\n220. 'V1028022'\n221. 'V1028023'\n222. 'V1028024'\n223. 'V1028025'\n224. 'V1028026'\n225. 'V1028027'\n226. 'V1028028'\n227. 'V1028029'\n228. 'V1028030'\n229. 'V1028031'\n230. 'V1028032'\n231. 'V1028033'\n232. 'V1028034'\n233. 'V1028035'\n234. 'V1028036'\n235. 'V1028037'\n236. 'V1028038'\n237. 'V1028039'\n238. 'V1028040'\n239. 'V1028041'\n240. 'V1028042'\n241. 'V1028043'\n242. 'V1028044'\n243. 'V1028045'\n244. 'V1028046'\n245. 'V1028047'\n246. 'V1028048'\n247. 'V1028049'\n248. 'V1028050'\n249. 'V1028051'\n250. 'V1028052'\n251. 'V1028053'\n252. 'V1028054'\n253. 'V1028055'\n254. 'V1028056'\n255. 'V1028057'\n256. 'V1028058'\n257. 'V1028059'\n258. 'V1028060'\n259. 'V1028061'\n260. 'V1028062'\n261. 'V1028063'\n262. 'V1028064'\n263. 'V1028065'\n264. 'V1028066'\n265. 'V1028067'\n266. 'V1028068'\n267. 'V1028069'\n268. 'V1028070'\n269. 'V1028071'\n270. 'V1028072'\n271. 'V1028073'\n272. 'V1028074'\n273. 'V1028075'\n274. 'V1028076'\n275. 'V1028077'\n276. 'V1028078'\n277. 'V1028079'\n278. 'V1028080'\n279. 'V1028081'\n280. 'V1028082'\n281. 'V1028083'\n282. 'V1028084'\n283. 'V1028085'\n284. 'V1028086'\n285. 'V1028087'\n286. 'V1028088'\n287. 'V1028089'\n288. 'V1028090'\n289. 'V1028091'\n290. 'V1028092'\n291. 'V1028093'\n292. 'V1028094'\n293. 'V1028095'\n294. 'V1028096'\n295. 'V1028097'\n296. 'V1028098'\n297. 'V1028099'\n298. 'V1028100'\n299. 'V1028101'\n300. 'V1028102'\n301. 'V1028103'\n302. 'V1028104'\n303. 'V1028105'\n304. 'V1028106'\n305. 'V1028107'\n306. 'V1028108'\n307. 'V1028109'\n308. 'V1028110'\n309. 'V1028111'\n310. 'V1028112'\n311. 'V1028113'\n312. 'V1028114'\n313. 'V1028115'\n314. 'V1028116'\n315. 'V1028117'\n316. 'V1028118'\n317. 'V1028119'\n318. 'V1028120'\n319. 'V1028121'\n320. 'V1028122'\n321. 'V1028123'\n322. 'V1028124'\n323. 'V1028125'\n324. 'V1028126'\n325. 'V1028127'\n326. 'V1028128'\n327. 'V1028129'\n328. 'V1028130'\n329. 'V1028131'\n330. 'V1028132'\n331. 'V1028133'\n332. 'V1028134'\n333. 'V1028135'\n334. 'V1028136'\n335. 'V1028137'\n336. 'V1028138'\n337. 'V1028139'\n338. 'V1028140'\n339. 'V1028141'\n340. 'V1028142'\n341. 'V1028143'\n342. 'V1028144'\n343. 'V1028145'\n344. 'V1028146'\n345. 'V1028147'\n346. 'V1028148'\n347. 'V1028149'\n348. 'V1028150'\n349. 'V1028151'\n350. 'V1028152'\n351. 'V1028153'\n352. 'V1028154'\n353. 'V1028155'\n354. 'V1028156'\n355. 'V1028157'\n356. 'V1028158'\n357. 'V1028159'\n358. 'V1028160'\n359. 'V1028161'\n360. 'V1028162'\n361. 'V1028163'\n362. 'V1028164'\n363. 'V1028165'\n364. 'V1028166'\n365. 'V1028167'\n366. 'V1028168'\n367. 'V1028169'\n368. 'V1028170'\n369. 'V1028171'\n370. 'V1028172'\n371. 'V1028173'\n372. 'V1028174'\n373. 'V1028175'\n374. 'V1028176'\n375. 'V1028177'\n376. 'V1028178'\n377. 'V1028179'\n378. 'V1028180'\n379. 'V1028181'\n380. 'V1028182'\n381. 'V1028183'\n382. 'V1028184'\n383. 'V1028185'\n384. 'V1028186'\n385. 'V1028187'\n386. 'V1028188'\n387. 'V1028189'\n388. 'V1028190'\n389. 'V1028191'\n390. 'V1028192'\n391. 'V1028193'\n392. 'V1028194'\n393. 'V1028195'\n394. 'V1028196'\n395. 'V1028197'\n396. 'V1028198'\n397. 'V1028199'\n398. 'V1028200'\n399. 'ID_DOMICILIO'\n400. 'Habitual'\n401. 'Efetivo'\n\n\n",
            "text/plain": [
              "  [1] \"Ano\"          \"Trimestre\"    \"UF\"           \"Capital\"      \"RM_RIDE\"     \n",
              "  [6] \"UPA\"          \"Estrato\"      \"V1008\"        \"V1014\"        \"V1016\"       \n",
              " [11] \"V1022\"        \"V1023\"        \"V1027\"        \"V1028\"        \"V1029\"       \n",
              " [16] \"V1033\"        \"posest\"       \"posest_sxi\"   \"V2001\"        \"V2003\"       \n",
              " [21] \"V2005\"        \"V2007\"        \"V2008\"        \"V20081\"       \"V20082\"      \n",
              " [26] \"V2009\"        \"V2010\"        \"V3001\"        \"V3002\"        \"V3002A\"      \n",
              " [31] \"V3003\"        \"V3003A\"       \"V3004\"        \"V3005\"        \"V3005A\"      \n",
              " [36] \"V3006\"        \"V3006A\"       \"V3007\"        \"V3008\"        \"V3009\"       \n",
              " [41] \"V3009A\"       \"V3010\"        \"V3011\"        \"V3011A\"       \"V3012\"       \n",
              " [46] \"V3013\"        \"V3013A\"       \"V3013B\"       \"V3014\"        \"V4001\"       \n",
              " [51] \"V4002\"        \"V4003\"        \"V4004\"        \"V4005\"        \"V4006\"       \n",
              " [56] \"V4006A\"       \"V4007\"        \"V4008\"        \"V40081\"       \"V40082\"      \n",
              " [61] \"V40083\"       \"V4009\"        \"V4010\"        \"V4012\"        \"V40121\"      \n",
              " [66] \"V4013\"        \"V40132\"       \"V40132A\"      \"V4014\"        \"V4015\"       \n",
              " [71] \"V40151\"       \"V401511\"      \"V401512\"      \"V4016\"        \"V40161\"      \n",
              " [76] \"V40162\"       \"V40163\"       \"V4017\"        \"V40171\"       \"V401711\"     \n",
              " [81] \"V4018\"        \"V40181\"       \"V40182\"       \"V40183\"       \"V4019\"       \n",
              " [86] \"V4020\"        \"V4021\"        \"V4022\"        \"V4024\"        \"V4025\"       \n",
              " [91] \"V4026\"        \"V4027\"        \"V4028\"        \"V4029\"        \"V4032\"       \n",
              " [96] \"V4033\"        \"V40331\"       \"V403311\"      \"V403312\"      \"V40332\"      \n",
              "[101] \"V403321\"      \"V403322\"      \"V40333\"       \"V403331\"      \"V4034\"       \n",
              "[106] \"V40341\"       \"V403411\"      \"V403412\"      \"V40342\"       \"V403421\"     \n",
              "[111] \"V403422\"      \"V4039\"        \"V4039C\"       \"V4040\"        \"V40401\"      \n",
              "[116] \"V40402\"       \"V40403\"       \"V4041\"        \"V4043\"        \"V40431\"      \n",
              "[121] \"V4044\"        \"V4045\"        \"V4046\"        \"V4047\"        \"V4048\"       \n",
              "[126] \"V4049\"        \"V4050\"        \"V40501\"       \"V405011\"      \"V405012\"     \n",
              "[131] \"V40502\"       \"V405021\"      \"V405022\"      \"V40503\"       \"V405031\"     \n",
              "[136] \"V4051\"        \"V40511\"       \"V405111\"      \"V405112\"      \"V40512\"      \n",
              "[141] \"V405121\"      \"V405122\"      \"V4056\"        \"V4056C\"       \"V4057\"       \n",
              "[146] \"V4058\"        \"V40581\"       \"V405811\"      \"V405812\"      \"V40582\"      \n",
              "[151] \"V405821\"      \"V405822\"      \"V40583\"       \"V405831\"      \"V40584\"      \n",
              "[156] \"V4059\"        \"V40591\"       \"V405911\"      \"V405912\"      \"V40592\"      \n",
              "[161] \"V405921\"      \"V405922\"      \"V4062\"        \"V4062C\"       \"V4063\"       \n",
              "[166] \"V4063A\"       \"V4064\"        \"V4064A\"       \"V4071\"        \"V4072\"       \n",
              "[171] \"V4072A\"       \"V4073\"        \"V4074\"        \"V4074A\"       \"V4075A\"      \n",
              "[176] \"V4075A1\"      \"V4076\"        \"V40761\"       \"V40762\"       \"V40763\"      \n",
              "[181] \"V4077\"        \"V4078\"        \"V4078A\"       \"V4082\"        \"VD2002\"      \n",
              "[186] \"VD2003\"       \"VD2004\"       \"VD2006\"       \"VD3004\"       \"VD3005\"      \n",
              "[191] \"VD3006\"       \"VD4001\"       \"VD4002\"       \"VD4003\"       \"VD4004\"      \n",
              "[196] \"VD4004A\"      \"VD4005\"       \"VD4007\"       \"VD4008\"       \"VD4009\"      \n",
              "[201] \"VD4010\"       \"VD4011\"       \"VD4012\"       \"VD4013\"       \"VD4014\"      \n",
              "[206] \"VD4015\"       \"VD4016\"       \"VD4017\"       \"VD4018\"       \"VD4019\"      \n",
              "[211] \"VD4020\"       \"VD4023\"       \"VD4030\"       \"VD4031\"       \"VD4032\"      \n",
              "[216] \"VD4033\"       \"VD4034\"       \"VD4035\"       \"VD4036\"       \"VD4037\"      \n",
              "[221] \"V1028001\"     \"V1028002\"     \"V1028003\"     \"V1028004\"     \"V1028005\"    \n",
              "[226] \"V1028006\"     \"V1028007\"     \"V1028008\"     \"V1028009\"     \"V1028010\"    \n",
              "[231] \"V1028011\"     \"V1028012\"     \"V1028013\"     \"V1028014\"     \"V1028015\"    \n",
              "[236] \"V1028016\"     \"V1028017\"     \"V1028018\"     \"V1028019\"     \"V1028020\"    \n",
              "[241] \"V1028021\"     \"V1028022\"     \"V1028023\"     \"V1028024\"     \"V1028025\"    \n",
              "[246] \"V1028026\"     \"V1028027\"     \"V1028028\"     \"V1028029\"     \"V1028030\"    \n",
              "[251] \"V1028031\"     \"V1028032\"     \"V1028033\"     \"V1028034\"     \"V1028035\"    \n",
              "[256] \"V1028036\"     \"V1028037\"     \"V1028038\"     \"V1028039\"     \"V1028040\"    \n",
              "[261] \"V1028041\"     \"V1028042\"     \"V1028043\"     \"V1028044\"     \"V1028045\"    \n",
              "[266] \"V1028046\"     \"V1028047\"     \"V1028048\"     \"V1028049\"     \"V1028050\"    \n",
              "[271] \"V1028051\"     \"V1028052\"     \"V1028053\"     \"V1028054\"     \"V1028055\"    \n",
              "[276] \"V1028056\"     \"V1028057\"     \"V1028058\"     \"V1028059\"     \"V1028060\"    \n",
              "[281] \"V1028061\"     \"V1028062\"     \"V1028063\"     \"V1028064\"     \"V1028065\"    \n",
              "[286] \"V1028066\"     \"V1028067\"     \"V1028068\"     \"V1028069\"     \"V1028070\"    \n",
              "[291] \"V1028071\"     \"V1028072\"     \"V1028073\"     \"V1028074\"     \"V1028075\"    \n",
              "[296] \"V1028076\"     \"V1028077\"     \"V1028078\"     \"V1028079\"     \"V1028080\"    \n",
              "[301] \"V1028081\"     \"V1028082\"     \"V1028083\"     \"V1028084\"     \"V1028085\"    \n",
              "[306] \"V1028086\"     \"V1028087\"     \"V1028088\"     \"V1028089\"     \"V1028090\"    \n",
              "[311] \"V1028091\"     \"V1028092\"     \"V1028093\"     \"V1028094\"     \"V1028095\"    \n",
              "[316] \"V1028096\"     \"V1028097\"     \"V1028098\"     \"V1028099\"     \"V1028100\"    \n",
              "[321] \"V1028101\"     \"V1028102\"     \"V1028103\"     \"V1028104\"     \"V1028105\"    \n",
              "[326] \"V1028106\"     \"V1028107\"     \"V1028108\"     \"V1028109\"     \"V1028110\"    \n",
              "[331] \"V1028111\"     \"V1028112\"     \"V1028113\"     \"V1028114\"     \"V1028115\"    \n",
              "[336] \"V1028116\"     \"V1028117\"     \"V1028118\"     \"V1028119\"     \"V1028120\"    \n",
              "[341] \"V1028121\"     \"V1028122\"     \"V1028123\"     \"V1028124\"     \"V1028125\"    \n",
              "[346] \"V1028126\"     \"V1028127\"     \"V1028128\"     \"V1028129\"     \"V1028130\"    \n",
              "[351] \"V1028131\"     \"V1028132\"     \"V1028133\"     \"V1028134\"     \"V1028135\"    \n",
              "[356] \"V1028136\"     \"V1028137\"     \"V1028138\"     \"V1028139\"     \"V1028140\"    \n",
              "[361] \"V1028141\"     \"V1028142\"     \"V1028143\"     \"V1028144\"     \"V1028145\"    \n",
              "[366] \"V1028146\"     \"V1028147\"     \"V1028148\"     \"V1028149\"     \"V1028150\"    \n",
              "[371] \"V1028151\"     \"V1028152\"     \"V1028153\"     \"V1028154\"     \"V1028155\"    \n",
              "[376] \"V1028156\"     \"V1028157\"     \"V1028158\"     \"V1028159\"     \"V1028160\"    \n",
              "[381] \"V1028161\"     \"V1028162\"     \"V1028163\"     \"V1028164\"     \"V1028165\"    \n",
              "[386] \"V1028166\"     \"V1028167\"     \"V1028168\"     \"V1028169\"     \"V1028170\"    \n",
              "[391] \"V1028171\"     \"V1028172\"     \"V1028173\"     \"V1028174\"     \"V1028175\"    \n",
              "[396] \"V1028176\"     \"V1028177\"     \"V1028178\"     \"V1028179\"     \"V1028180\"    \n",
              "[401] \"V1028181\"     \"V1028182\"     \"V1028183\"     \"V1028184\"     \"V1028185\"    \n",
              "[406] \"V1028186\"     \"V1028187\"     \"V1028188\"     \"V1028189\"     \"V1028190\"    \n",
              "[411] \"V1028191\"     \"V1028192\"     \"V1028193\"     \"V1028194\"     \"V1028195\"    \n",
              "[416] \"V1028196\"     \"V1028197\"     \"V1028198\"     \"V1028199\"     \"V1028200\"    \n",
              "[421] \"ID_DOMICILIO\" \"Habitual\"     \"Efetivo\"     "
            ]
          },
          "metadata": {},
          "output_type": "display_data"
        }
      ],
      "source": [
        "#nome das variáveis\n",
        "names(dados_2023_3)"
      ]
    },
    {
      "cell_type": "code",
      "execution_count": null,
      "metadata": {
        "colab": {
          "background_save": true
        },
        "id": "f-o46KzCGRuw",
        "outputId": "78de3b3a-4374-4f5f-a820-544ec7a9697e"
      },
      "outputs": [
        {
          "data": {
            "text/html": [
              "<table class=\"dataframe\">\n",
              "<caption>A tibble: 6 × 423</caption>\n",
              "<thead>\n",
              "\t<tr><th scope=col>Ano</th><th scope=col>Trimestre</th><th scope=col>UF</th><th scope=col>Capital</th><th scope=col>RM_RIDE</th><th scope=col>UPA</th><th scope=col>Estrato</th><th scope=col>V1008</th><th scope=col>V1014</th><th scope=col>V1016</th><th scope=col>⋯</th><th scope=col>V1028194</th><th scope=col>V1028195</th><th scope=col>V1028196</th><th scope=col>V1028197</th><th scope=col>V1028198</th><th scope=col>V1028199</th><th scope=col>V1028200</th><th scope=col>ID_DOMICILIO</th><th scope=col>Habitual</th><th scope=col>Efetivo</th></tr>\n",
              "\t<tr><th scope=col>&lt;chr&gt;</th><th scope=col>&lt;chr&gt;</th><th scope=col>&lt;fct&gt;</th><th scope=col>&lt;fct&gt;</th><th scope=col>&lt;fct&gt;</th><th scope=col>&lt;chr&gt;</th><th scope=col>&lt;chr&gt;</th><th scope=col>&lt;chr&gt;</th><th scope=col>&lt;chr&gt;</th><th scope=col>&lt;chr&gt;</th><th scope=col>⋯</th><th scope=col>&lt;dbl&gt;</th><th scope=col>&lt;dbl&gt;</th><th scope=col>&lt;dbl&gt;</th><th scope=col>&lt;dbl&gt;</th><th scope=col>&lt;dbl&gt;</th><th scope=col>&lt;dbl&gt;</th><th scope=col>&lt;dbl&gt;</th><th scope=col>&lt;chr&gt;</th><th scope=col>&lt;dbl&gt;</th><th scope=col>&lt;dbl&gt;</th></tr>\n",
              "</thead>\n",
              "<tbody>\n",
              "\t<tr><td>2023</td><td>3</td><td>Rondônia</td><td>Município de Porto Velho (RO)</td><td>NA</td><td>110000016</td><td>1110011</td><td>01</td><td>10</td><td>4</td><td>⋯</td><td>325.8103</td><td>291.3309</td><td>314.8075</td><td>0</td><td>0</td><td>667.2974</td><td>0</td><td>1100000160110</td><td>1.074869</td><td>1.079602</td></tr>\n",
              "\t<tr><td>2023</td><td>3</td><td>Rondônia</td><td>Município de Porto Velho (RO)</td><td>NA</td><td>110000016</td><td>1110011</td><td>01</td><td>10</td><td>4</td><td>⋯</td><td>325.8103</td><td>291.3309</td><td>314.8075</td><td>0</td><td>0</td><td>667.2974</td><td>0</td><td>1100000160110</td><td>1.074869</td><td>1.079602</td></tr>\n",
              "\t<tr><td>2023</td><td>3</td><td>Rondônia</td><td>Município de Porto Velho (RO)</td><td>NA</td><td>110000016</td><td>1110011</td><td>02</td><td>10</td><td>4</td><td>⋯</td><td>180.1475</td><td>159.1869</td><td>169.3841</td><td>0</td><td>0</td><td>342.5645</td><td>0</td><td>1100000160210</td><td>1.074869</td><td>1.079602</td></tr>\n",
              "\t<tr><td>2023</td><td>3</td><td>Rondônia</td><td>Município de Porto Velho (RO)</td><td>NA</td><td>110000016</td><td>1110011</td><td>03</td><td>10</td><td>4</td><td>⋯</td><td>382.0095</td><td>339.4889</td><td>355.9152</td><td>0</td><td>0</td><td>702.6023</td><td>0</td><td>1100000160310</td><td>1.074869</td><td>1.079602</td></tr>\n",
              "\t<tr><td>2023</td><td>3</td><td>Rondônia</td><td>Município de Porto Velho (RO)</td><td>NA</td><td>110000016</td><td>1110011</td><td>03</td><td>10</td><td>4</td><td>⋯</td><td>382.0095</td><td>339.4889</td><td>355.9152</td><td>0</td><td>0</td><td>702.6023</td><td>0</td><td>1100000160310</td><td>1.074869</td><td>1.079602</td></tr>\n",
              "\t<tr><td>2023</td><td>3</td><td>Rondônia</td><td>Município de Porto Velho (RO)</td><td>NA</td><td>110000016</td><td>1110011</td><td>04</td><td>10</td><td>4</td><td>⋯</td><td>249.5689</td><td>224.9099</td><td>234.4539</td><td>0</td><td>0</td><td>497.1048</td><td>0</td><td>1100000160410</td><td>1.074869</td><td>1.079602</td></tr>\n",
              "</tbody>\n",
              "</table>\n"
            ],
            "text/latex": "A tibble: 6 × 423\n\\begin{tabular}{lllllllllllllllllllll}\n Ano & Trimestre & UF & Capital & RM\\_RIDE & UPA & Estrato & V1008 & V1014 & V1016 & ⋯ & V1028194 & V1028195 & V1028196 & V1028197 & V1028198 & V1028199 & V1028200 & ID\\_DOMICILIO & Habitual & Efetivo\\\\\n <chr> & <chr> & <fct> & <fct> & <fct> & <chr> & <chr> & <chr> & <chr> & <chr> & ⋯ & <dbl> & <dbl> & <dbl> & <dbl> & <dbl> & <dbl> & <dbl> & <chr> & <dbl> & <dbl>\\\\\n\\hline\n\t 2023 & 3 & Rondônia & Município de Porto Velho (RO) & NA & 110000016 & 1110011 & 01 & 10 & 4 & ⋯ & 325.8103 & 291.3309 & 314.8075 & 0 & 0 & 667.2974 & 0 & 1100000160110 & 1.074869 & 1.079602\\\\\n\t 2023 & 3 & Rondônia & Município de Porto Velho (RO) & NA & 110000016 & 1110011 & 01 & 10 & 4 & ⋯ & 325.8103 & 291.3309 & 314.8075 & 0 & 0 & 667.2974 & 0 & 1100000160110 & 1.074869 & 1.079602\\\\\n\t 2023 & 3 & Rondônia & Município de Porto Velho (RO) & NA & 110000016 & 1110011 & 02 & 10 & 4 & ⋯ & 180.1475 & 159.1869 & 169.3841 & 0 & 0 & 342.5645 & 0 & 1100000160210 & 1.074869 & 1.079602\\\\\n\t 2023 & 3 & Rondônia & Município de Porto Velho (RO) & NA & 110000016 & 1110011 & 03 & 10 & 4 & ⋯ & 382.0095 & 339.4889 & 355.9152 & 0 & 0 & 702.6023 & 0 & 1100000160310 & 1.074869 & 1.079602\\\\\n\t 2023 & 3 & Rondônia & Município de Porto Velho (RO) & NA & 110000016 & 1110011 & 03 & 10 & 4 & ⋯ & 382.0095 & 339.4889 & 355.9152 & 0 & 0 & 702.6023 & 0 & 1100000160310 & 1.074869 & 1.079602\\\\\n\t 2023 & 3 & Rondônia & Município de Porto Velho (RO) & NA & 110000016 & 1110011 & 04 & 10 & 4 & ⋯ & 249.5689 & 224.9099 & 234.4539 & 0 & 0 & 497.1048 & 0 & 1100000160410 & 1.074869 & 1.079602\\\\\n\\end{tabular}\n",
            "text/markdown": "\nA tibble: 6 × 423\n\n| Ano &lt;chr&gt; | Trimestre &lt;chr&gt; | UF &lt;fct&gt; | Capital &lt;fct&gt; | RM_RIDE &lt;fct&gt; | UPA &lt;chr&gt; | Estrato &lt;chr&gt; | V1008 &lt;chr&gt; | V1014 &lt;chr&gt; | V1016 &lt;chr&gt; | ⋯ ⋯ | V1028194 &lt;dbl&gt; | V1028195 &lt;dbl&gt; | V1028196 &lt;dbl&gt; | V1028197 &lt;dbl&gt; | V1028198 &lt;dbl&gt; | V1028199 &lt;dbl&gt; | V1028200 &lt;dbl&gt; | ID_DOMICILIO &lt;chr&gt; | Habitual &lt;dbl&gt; | Efetivo &lt;dbl&gt; |\n|---|---|---|---|---|---|---|---|---|---|---|---|---|---|---|---|---|---|---|---|---|\n| 2023 | 3 | Rondônia | Município de Porto Velho (RO) | NA | 110000016 | 1110011 | 01 | 10 | 4 | ⋯ | 325.8103 | 291.3309 | 314.8075 | 0 | 0 | 667.2974 | 0 | 1100000160110 | 1.074869 | 1.079602 |\n| 2023 | 3 | Rondônia | Município de Porto Velho (RO) | NA | 110000016 | 1110011 | 01 | 10 | 4 | ⋯ | 325.8103 | 291.3309 | 314.8075 | 0 | 0 | 667.2974 | 0 | 1100000160110 | 1.074869 | 1.079602 |\n| 2023 | 3 | Rondônia | Município de Porto Velho (RO) | NA | 110000016 | 1110011 | 02 | 10 | 4 | ⋯ | 180.1475 | 159.1869 | 169.3841 | 0 | 0 | 342.5645 | 0 | 1100000160210 | 1.074869 | 1.079602 |\n| 2023 | 3 | Rondônia | Município de Porto Velho (RO) | NA | 110000016 | 1110011 | 03 | 10 | 4 | ⋯ | 382.0095 | 339.4889 | 355.9152 | 0 | 0 | 702.6023 | 0 | 1100000160310 | 1.074869 | 1.079602 |\n| 2023 | 3 | Rondônia | Município de Porto Velho (RO) | NA | 110000016 | 1110011 | 03 | 10 | 4 | ⋯ | 382.0095 | 339.4889 | 355.9152 | 0 | 0 | 702.6023 | 0 | 1100000160310 | 1.074869 | 1.079602 |\n| 2023 | 3 | Rondônia | Município de Porto Velho (RO) | NA | 110000016 | 1110011 | 04 | 10 | 4 | ⋯ | 249.5689 | 224.9099 | 234.4539 | 0 | 0 | 497.1048 | 0 | 1100000160410 | 1.074869 | 1.079602 |\n\n",
            "text/plain": [
              "  Ano  Trimestre UF       Capital                       RM_RIDE UPA      \n",
              "1 2023 3         Rondônia Município de Porto Velho (RO) NA      110000016\n",
              "2 2023 3         Rondônia Município de Porto Velho (RO) NA      110000016\n",
              "3 2023 3         Rondônia Município de Porto Velho (RO) NA      110000016\n",
              "4 2023 3         Rondônia Município de Porto Velho (RO) NA      110000016\n",
              "5 2023 3         Rondônia Município de Porto Velho (RO) NA      110000016\n",
              "6 2023 3         Rondônia Município de Porto Velho (RO) NA      110000016\n",
              "  Estrato V1008 V1014 V1016 ⋯ V1028194 V1028195 V1028196 V1028197 V1028198\n",
              "1 1110011 01    10    4     ⋯ 325.8103 291.3309 314.8075 0        0       \n",
              "2 1110011 01    10    4     ⋯ 325.8103 291.3309 314.8075 0        0       \n",
              "3 1110011 02    10    4     ⋯ 180.1475 159.1869 169.3841 0        0       \n",
              "4 1110011 03    10    4     ⋯ 382.0095 339.4889 355.9152 0        0       \n",
              "5 1110011 03    10    4     ⋯ 382.0095 339.4889 355.9152 0        0       \n",
              "6 1110011 04    10    4     ⋯ 249.5689 224.9099 234.4539 0        0       \n",
              "  V1028199 V1028200 ID_DOMICILIO  Habitual Efetivo \n",
              "1 667.2974 0        1100000160110 1.074869 1.079602\n",
              "2 667.2974 0        1100000160110 1.074869 1.079602\n",
              "3 342.5645 0        1100000160210 1.074869 1.079602\n",
              "4 702.6023 0        1100000160310 1.074869 1.079602\n",
              "5 702.6023 0        1100000160310 1.074869 1.079602\n",
              "6 497.1048 0        1100000160410 1.074869 1.079602"
            ]
          },
          "metadata": {},
          "output_type": "display_data"
        }
      ],
      "source": [
        "head(dados_2023_3)"
      ]
    },
    {
      "cell_type": "code",
      "execution_count": null,
      "metadata": {
        "colab": {
          "background_save": true
        },
        "id": "vGaZDSlFecNO",
        "outputId": "1e974906-13d0-4e2d-94fb-e745e01f4191"
      },
      "outputs": [
        {
          "name": "stdout",
          "output_type": "stream",
          "text": [
            "tibble [479,873 × 423] (S3: tbl_df/tbl/data.frame)\n",
            " $ Ano         : chr [1:479873] \"2023\" \"2023\" \"2023\" \"2023\" ...\n",
            " $ Trimestre   : chr [1:479873] \"3\" \"3\" \"3\" \"3\" ...\n",
            " $ UF          : Factor w/ 27 levels \"Rondônia\",\"Acre\",..: 1 1 1 1 1 1 1 1 1 1 ...\n",
            " $ Capital     : Factor w/ 27 levels \"Município de Porto Velho (RO)\",..: 1 1 1 1 1 1 1 1 1 1 ...\n",
            " $ RM_RIDE     : Factor w/ 21 levels \"Região Metropolitana de Manaus (AM)\",..: NA NA NA NA NA NA NA NA NA NA ...\n",
            " $ UPA         : chr [1:479873] \"110000016\" \"110000016\" \"110000016\" \"110000016\" ...\n",
            " $ Estrato     : chr [1:479873] \"1110011\" \"1110011\" \"1110011\" \"1110011\" ...\n",
            " $ V1008       : chr [1:479873] \"01\" \"01\" \"02\" \"03\" ...\n",
            " $ V1014       : chr [1:479873] \"10\" \"10\" \"10\" \"10\" ...\n",
            " $ V1016       : chr [1:479873] \"4\" \"4\" \"4\" \"4\" ...\n",
            " $ V1022       : Factor w/ 2 levels \"Urbana\",\"Rural\": 1 1 1 1 1 1 1 1 1 1 ...\n",
            " $ V1023       : Factor w/ 4 levels \"Capital\",\"Resto da RM (Região Metropolitana, excluindo a capital)\",..: 1 1 1 1 1 1 1 1 1 1 ...\n",
            " $ V1027       : num [1:479873] 164 164 164 164 164 ...\n",
            " $ V1028       : num [1:479873] 320 320 171 353 353 ...\n",
            " $ V1029       : num [1:479873] 567788 567788 567788 567788 567788 ...\n",
            " $ V1033       : num [1:479873] 8391510 8497906 6755810 8530033 7084236 ...\n",
            " $ posest      : chr [1:479873] \"111\" \"111\" \"111\" \"111\" ...\n",
            " $ posest_sxi  : chr [1:479873] \"107\" \"207\" \"211\" \"206\" ...\n",
            " $ V2001       : num [1:479873] 2 2 1 2 2 3 3 3 3 3 ...\n",
            " $ V2003       : chr [1:479873] \"01\" \"02\" \"01\" \"01\" ...\n",
            " $ V2005       : Factor w/ 19 levels \"Pessoa responsável pelo domicílio\",..: 1 2 1 1 5 1 8 8 1 2 ...\n",
            " $ V2007       : Factor w/ 2 levels \"Homem\",\"Mulher\": 1 2 2 2 2 1 1 2 2 1 ...\n",
            " $ V2008       : chr [1:479873] \"22\" \"22\" \"14\" \"13\" ...\n",
            " $ V20081      : chr [1:479873] \"08\" \"04\" \"10\" \"12\" ...\n",
            " $ V20082      : chr [1:479873] \"1992\" \"1993\" \"1972\" \"1997\" ...\n",
            " $ V2009       : num [1:479873] 30 30 50 25 2 34 72 54 34 36 ...\n",
            " $ V2010       : Factor w/ 6 levels \"Branca\",\"Preta\",..: 4 4 4 4 4 1 1 1 4 4 ...\n",
            " $ V3001       : Factor w/ 2 levels \"Sim\",\"Não\": 1 1 1 1 NA 1 1 1 1 1 ...\n",
            " $ V3002       : Factor w/ 2 levels \"Sim\",\"Não\": 2 2 2 2 NA 1 2 2 2 2 ...\n",
            " $ V3002A      : Factor w/ 2 levels \"Rede privada\",..: NA NA NA NA NA 1 NA NA NA NA ...\n",
            " $ V3003       : Factor w/ 9 levels \"Pré-escolar (maternal e jardim de infância)\",..: NA NA NA NA NA NA NA NA NA NA ...\n",
            " $ V3003A      : Factor w/ 11 levels \"Creche (disponível apenas no questionário anual de educação)\",..: NA NA NA NA NA 8 NA NA NA NA ...\n",
            " $ V3004       : Factor w/ 2 levels \"8 anos\",\"9 anos\": NA NA NA NA NA NA NA NA NA NA ...\n",
            " $ V3005       : Factor w/ 2 levels \"Sim\",\"Não\": NA NA NA NA NA NA NA NA NA NA ...\n",
            " $ V3005A      : Factor w/ 3 levels \"Períodos semestrais\",..: NA NA NA NA NA 1 NA NA NA NA ...\n",
            " $ V3006       : Factor w/ 13 levels \"Primeira (o)\",..: NA NA NA NA NA 8 NA NA NA NA ...\n",
            " $ V3006A      : Factor w/ 2 levels \"Anos iniciais (primeiro segmento)\",..: NA NA NA NA NA NA NA NA NA NA ...\n",
            " $ V3007       : Factor w/ 2 levels \"Sim\",\"Não\": NA NA NA NA NA 2 NA NA NA NA ...\n",
            " $ V3008       : Factor w/ 2 levels \"Sim\",\"Não\": 1 1 1 1 NA NA 1 1 1 1 ...\n",
            " $ V3009       : Factor w/ 12 levels \"Classe de alfabetização - CA\",..: NA NA NA NA NA NA NA NA NA NA ...\n",
            " $ V3009A      : Factor w/ 15 levels \"Creche (disponível apenas no questionário anual de educação)\",..: 10 10 12 10 NA NA 12 12 10 7 ...\n",
            " $ V3010       : Factor w/ 2 levels \"8 anos\",\"9 anos\": NA NA NA NA NA NA NA NA NA 1 ...\n",
            " $ V3011       : Factor w/ 2 levels \"Sim\",\"Não\": NA NA NA NA NA NA NA NA NA NA ...\n",
            " $ V3011A      : Factor w/ 3 levels \"Períodos semestrais\",..: NA NA 1 NA NA NA 1 1 NA NA ...\n",
            " $ V3012       : Factor w/ 3 levels \"Concluiu\",\"Não concluiu\",..: 1 1 1 1 NA NA 1 1 1 1 ...\n",
            " $ V3013       : Factor w/ 12 levels \"Primeira (o)\",..: 3 3 10 3 NA NA 8 8 3 8 ...\n",
            " $ V3013A      : Factor w/ 2 levels \"Anos iniciais (primeiro segmento)\",..: NA NA NA NA NA NA NA NA NA NA ...\n",
            " $ V3013B      : Factor w/ 2 levels \"Sim\",\"Não\": NA NA NA NA NA NA NA NA NA NA ...\n",
            " $ V3014       : Factor w/ 2 levels \"Sim\",\"Não\": 1 1 1 1 NA NA 1 1 1 1 ...\n",
            " $ V4001       : Factor w/ 2 levels \"Sim\",\"Não\": 1 2 1 2 NA 2 2 1 2 1 ...\n",
            " $ V4002       : Factor w/ 2 levels \"Sim\",\"Não\": NA 2 NA 2 NA 2 2 NA 2 NA ...\n",
            " $ V4003       : Factor w/ 2 levels \"Sim\",\"Não\": NA 2 NA 2 NA 2 2 NA 2 NA ...\n",
            " $ V4004       : Factor w/ 2 levels \"Sim\",\"Não\": NA 2 NA 2 NA 2 2 NA 2 NA ...\n",
            " $ V4005       : Factor w/ 2 levels \"Sim\",\"Não\": NA 2 NA 2 NA 2 2 NA 2 NA ...\n",
            " $ V4006       : Factor w/ 8 levels \"Férias, folga ou jornada de trabalho variável\",..: NA NA NA NA NA NA NA NA NA NA ...\n",
            " $ V4006A      : Factor w/ 7 levels \"Férias, folga ou jornada de trabalho variável\",..: NA NA NA NA NA NA NA NA NA NA ...\n",
            " $ V4007       : Factor w/ 2 levels \"Sim\",\"Não\": NA NA NA NA NA NA NA NA NA NA ...\n",
            " $ V4008       : Factor w/ 4 levels \"Menos de 1 mês\",..: NA NA NA NA NA NA NA NA NA NA ...\n",
            " $ V40081      : chr [1:479873] NA NA NA NA ...\n",
            " $ V40082      : chr [1:479873] NA NA NA NA ...\n",
            " $ V40083      : chr [1:479873] NA NA NA NA ...\n",
            " $ V4009       : Factor w/ 3 levels \"Um\",\"Dois\",\"Três ou mais\": 1 NA 1 NA NA NA NA 1 NA 1 ...\n",
            " $ V4010       : chr [1:479873] \"9311\" NA \"3221\" NA ...\n",
            " $ V4012       : Factor w/ 7 levels \"Trabalhador doméstico\",..: 6 NA 4 NA NA NA NA 4 NA 6 ...\n",
            " $ V40121      : Factor w/ 3 levels \"Em ajuda a conta própria ou empregador\",..: NA NA NA NA NA NA NA NA NA NA ...\n",
            " $ V4013       : chr [1:479873] \"07001\" NA \"86001\" NA ...\n",
            " $ V40132      : Factor w/ 2 levels \"Agricultura, pecuária silvicultura, exploração florestal, pesca ou aquicultura\",..: NA NA NA NA NA NA NA NA NA NA ...\n",
            " $ V40132A     : Factor w/ 2 levels \"Agricultura, pecuária silvicultura, exploração florestal, pesca ou aquicultura e atividades de apoio à agricult\"| __truncated__,..: 2 NA 2 NA NA NA NA 2 NA 2 ...\n",
            " $ V4014       : Factor w/ 3 levels \"Federal\",\"Estadual\",..: NA NA 2 NA NA NA NA 2 NA NA ...\n",
            " $ V4015       : Factor w/ 2 levels \"Sim\",\"Não\": 2 NA NA NA NA NA NA NA NA 2 ...\n",
            " $ V40151      : Factor w/ 3 levels \"1 a 5 trabalhadores não remunerados\",..: NA NA NA NA NA NA NA NA NA NA ...\n",
            " $ V401511     : chr [1:479873] NA NA NA NA ...\n",
            " $ V401512     : chr [1:479873] NA NA NA NA ...\n",
            " $ V4016       : Factor w/ 4 levels \"1 a 5 empregados\",..: NA NA NA NA NA NA NA NA NA NA ...\n",
            " $ V40161      : chr [1:479873] NA NA NA NA ...\n",
            " $ V40162      : chr [1:479873] NA NA NA NA ...\n",
            " $ V40163      : chr [1:479873] NA NA NA NA ...\n",
            " $ V4017       : Factor w/ 2 levels \"Sim\",\"Não\": 2 NA NA NA NA NA NA NA NA 2 ...\n",
            " $ V40171      : Factor w/ 2 levels \"1 a 5 sócios\",..: NA NA NA NA NA NA NA NA NA NA ...\n",
            " $ V401711     : chr [1:479873] NA NA NA NA ...\n",
            " $ V4018       : Factor w/ 4 levels \"1 a 5 pessoas\",..: 1 NA NA NA NA NA NA NA NA 1 ...\n",
            " $ V40181      : chr [1:479873] \"1\" NA NA NA ...\n",
            " $ V40182      : chr [1:479873] NA NA NA NA ...\n",
            " $ V40183      : chr [1:479873] NA NA NA NA ...\n",
            " $ V4019       : Factor w/ 2 levels \"Sim\",\"Não\": 2 NA NA NA NA NA NA NA NA 1 ...\n",
            " $ V4020       : Factor w/ 3 levels \"Em loja, escritório, galpão, etc.\",..: 3 NA 1 NA NA NA NA 1 NA 1 ...\n",
            " $ V4021       : Factor w/ 2 levels \"Sim\",\"Não\": NA NA NA NA NA NA NA NA NA 1 ...\n",
            " $ V4022       : Factor w/ 8 levels \"Em estabelecimento de outro négocio/empresa\",..: 7 NA NA NA NA NA NA NA NA NA ...\n",
            " $ V4024       : Factor w/ 2 levels \"Sim\",\"Não\": NA NA NA NA NA NA NA NA NA NA ...\n",
            " $ V4025       : Factor w/ 2 levels \"Sim\",\"Não\": NA NA 2 NA NA NA NA 2 NA NA ...\n",
            " $ V4026       : Factor w/ 2 levels \"Sim\",\"Não\": NA NA NA NA NA NA NA NA NA NA ...\n",
            " $ V4027       : Factor w/ 2 levels \"Sim\",\"Não\": NA NA NA NA NA NA NA NA NA NA ...\n",
            " $ V4028       : Factor w/ 2 levels \"Sim\",\"Não\": NA NA 1 NA NA NA NA 1 NA NA ...\n",
            " $ V4029       : Factor w/ 2 levels \"Sim\",\"Não\": NA NA NA NA NA NA NA NA NA NA ...\n",
            " $ V4032       : Factor w/ 2 levels \"Sim\",\"Não\": 2 NA NA NA NA NA NA NA NA 2 ...\n",
            " $ V4033       : Factor w/ 1 level \"Indica se o quesito foi respondido\": 1 NA 1 NA NA NA NA 1 NA 1 ...\n",
            " $ V40331      : Factor w/ 1 level \"Em dinheiro\": 1 NA 1 NA NA NA NA 1 NA 1 ...\n",
            " $ V403311     : Factor w/ 8 levels \"1 a [0,5SM]\",..: 5 NA 4 NA NA NA NA 4 NA 4 ...\n",
            " $ V403312     : num [1:479873] 5000 NA 3500 NA NA NA NA 3500 NA 3000 ...\n",
            "  [list output truncated]\n"
          ]
        }
      ],
      "source": [
        "str(dados_2023_3)"
      ]
    },
    {
      "cell_type": "markdown",
      "metadata": {
        "id": "79O9lD0afRt1"
      },
      "source": [
        "`factor` representa variáveis categórias"
      ]
    },
    {
      "cell_type": "markdown",
      "metadata": {
        "id": "Os5_xp5VFYE-"
      },
      "source": [
        "`%>%` significa `e então`"
      ]
    },
    {
      "cell_type": "markdown",
      "metadata": {
        "id": "8DcEOiruL6BD"
      },
      "source": [
        "**Algumas funções interessantes do pacote `dplyr`**\n",
        "\n",
        "`mutate()`: adiciona novas variáveis em função de variáveis existentes ou não\n",
        "\n",
        "`select()`: possibilita a escolha de variáveis com base em seus nomes, para\n",
        "serem mantidas ou excluídas do conjunto de dados\n",
        "\n",
        "`filter()`: permite escolher casos com base em seus valores, podendo ser utilizado para variáveis categóricas, contínuas ou uma combinação de distintos\n",
        "tipos de variáveis\n",
        "\n",
        "`summarise()`: possibilita a criação/transformação de variáveis por meio de uma\n",
        "fórmula de cálculo predefinida\n",
        "\n",
        "`arrange()`: permite alterar/reordenar as linhas de um conjunto de dados\n",
        "\n",
        "`group_by()`: possibilita que se execute qualquer uma dessas operações “por\n",
        "grupo”\n",
        "\n",
        "[Fonte](https://repositorio.ufrn.br/server/api/core/bitstreams/a8aa616a-51aa-416d-a26b-8b420e61cd78/content)"
      ]
    },
    {
      "cell_type": "code",
      "execution_count": null,
      "metadata": {
        "colab": {
          "background_save": true
        },
        "id": "lSXrAzylZW8w",
        "outputId": "0fdd3a78-8565-494c-a8b7-176baa49775c"
      },
      "outputs": [
        {
          "data": {
            "text/html": [
              "<table class=\"dataframe\">\n",
              "<caption>A tibble: 35473 × 423</caption>\n",
              "<thead>\n",
              "\t<tr><th scope=col>Ano</th><th scope=col>Trimestre</th><th scope=col>UF</th><th scope=col>Capital</th><th scope=col>RM_RIDE</th><th scope=col>UPA</th><th scope=col>Estrato</th><th scope=col>V1008</th><th scope=col>V1014</th><th scope=col>V1016</th><th scope=col>⋯</th><th scope=col>V1028194</th><th scope=col>V1028195</th><th scope=col>V1028196</th><th scope=col>V1028197</th><th scope=col>V1028198</th><th scope=col>V1028199</th><th scope=col>V1028200</th><th scope=col>ID_DOMICILIO</th><th scope=col>Habitual</th><th scope=col>Efetivo</th></tr>\n",
              "\t<tr><th scope=col>&lt;chr&gt;</th><th scope=col>&lt;chr&gt;</th><th scope=col>&lt;fct&gt;</th><th scope=col>&lt;fct&gt;</th><th scope=col>&lt;fct&gt;</th><th scope=col>&lt;chr&gt;</th><th scope=col>&lt;chr&gt;</th><th scope=col>&lt;chr&gt;</th><th scope=col>&lt;chr&gt;</th><th scope=col>&lt;chr&gt;</th><th scope=col>⋯</th><th scope=col>&lt;dbl&gt;</th><th scope=col>&lt;dbl&gt;</th><th scope=col>&lt;dbl&gt;</th><th scope=col>&lt;dbl&gt;</th><th scope=col>&lt;dbl&gt;</th><th scope=col>&lt;dbl&gt;</th><th scope=col>&lt;dbl&gt;</th><th scope=col>&lt;chr&gt;</th><th scope=col>&lt;dbl&gt;</th><th scope=col>&lt;dbl&gt;</th></tr>\n",
              "</thead>\n",
              "<tbody>\n",
              "\t<tr><td>2023</td><td>3</td><td>Minas Gerais</td><td>Município de Belo Horizonte (MG)</td><td>Região Metropolitana de Belo Horizonte (MG)</td><td>310041210</td><td>3110111</td><td>01</td><td>10</td><td>5</td><td>⋯</td><td>634.2538</td><td>   0.0000</td><td>685.3165</td><td>0</td><td>696.6791</td><td>0</td><td>687.2363</td><td>3100412100110</td><td>1.092827</td><td>1.092867</td></tr>\n",
              "\t<tr><td>2023</td><td>3</td><td>Minas Gerais</td><td>Município de Belo Horizonte (MG)</td><td>Região Metropolitana de Belo Horizonte (MG)</td><td>310041210</td><td>3110111</td><td>01</td><td>10</td><td>5</td><td>⋯</td><td>634.2538</td><td>   0.0000</td><td>685.3165</td><td>0</td><td>696.6791</td><td>0</td><td>687.2363</td><td>3100412100110</td><td>1.092827</td><td>1.092867</td></tr>\n",
              "\t<tr><td>2023</td><td>3</td><td>Minas Gerais</td><td>Município de Belo Horizonte (MG)</td><td>Região Metropolitana de Belo Horizonte (MG)</td><td>310041210</td><td>3110111</td><td>02</td><td>10</td><td>5</td><td>⋯</td><td>936.5501</td><td>   0.0000</td><td>943.7046</td><td>0</td><td>973.6742</td><td>0</td><td>980.2739</td><td>3100412100210</td><td>1.092827</td><td>1.092867</td></tr>\n",
              "\t<tr><td>2023</td><td>3</td><td>Minas Gerais</td><td>Município de Belo Horizonte (MG)</td><td>Região Metropolitana de Belo Horizonte (MG)</td><td>310041210</td><td>3110111</td><td>02</td><td>10</td><td>5</td><td>⋯</td><td>936.5501</td><td>   0.0000</td><td>943.7046</td><td>0</td><td>973.6742</td><td>0</td><td>980.2739</td><td>3100412100210</td><td>1.092827</td><td>1.092867</td></tr>\n",
              "\t<tr><td>2023</td><td>3</td><td>Minas Gerais</td><td>Município de Belo Horizonte (MG)</td><td>Região Metropolitana de Belo Horizonte (MG)</td><td>310041210</td><td>3110111</td><td>03</td><td>10</td><td>5</td><td>⋯</td><td>545.7090</td><td>   0.0000</td><td>546.7870</td><td>0</td><td>576.3776</td><td>0</td><td>564.9423</td><td>3100412100310</td><td>1.092827</td><td>1.092867</td></tr>\n",
              "\t<tr><td>2023</td><td>3</td><td>Minas Gerais</td><td>Município de Belo Horizonte (MG)</td><td>Região Metropolitana de Belo Horizonte (MG)</td><td>310041210</td><td>3110111</td><td>03</td><td>10</td><td>5</td><td>⋯</td><td>545.7090</td><td>   0.0000</td><td>546.7870</td><td>0</td><td>576.3776</td><td>0</td><td>564.9423</td><td>3100412100310</td><td>1.092827</td><td>1.092867</td></tr>\n",
              "\t<tr><td>2023</td><td>3</td><td>Minas Gerais</td><td>Município de Belo Horizonte (MG)</td><td>Região Metropolitana de Belo Horizonte (MG)</td><td>310041210</td><td>3110111</td><td>04</td><td>10</td><td>5</td><td>⋯</td><td>578.6639</td><td>   0.0000</td><td>537.8354</td><td>0</td><td>533.8028</td><td>0</td><td>586.3673</td><td>3100412100410</td><td>1.092827</td><td>1.092867</td></tr>\n",
              "\t<tr><td>2023</td><td>3</td><td>Minas Gerais</td><td>Município de Belo Horizonte (MG)</td><td>Região Metropolitana de Belo Horizonte (MG)</td><td>310041210</td><td>3110111</td><td>05</td><td>10</td><td>5</td><td>⋯</td><td>687.6341</td><td>   0.0000</td><td>675.2866</td><td>0</td><td>708.8784</td><td>0</td><td>695.8344</td><td>3100412100510</td><td>1.092827</td><td>1.092867</td></tr>\n",
              "\t<tr><td>2023</td><td>3</td><td>Minas Gerais</td><td>Município de Belo Horizonte (MG)</td><td>Região Metropolitana de Belo Horizonte (MG)</td><td>310041210</td><td>3110111</td><td>05</td><td>10</td><td>5</td><td>⋯</td><td>687.6341</td><td>   0.0000</td><td>675.2866</td><td>0</td><td>708.8784</td><td>0</td><td>695.8344</td><td>3100412100510</td><td>1.092827</td><td>1.092867</td></tr>\n",
              "\t<tr><td>2023</td><td>3</td><td>Minas Gerais</td><td>Município de Belo Horizonte (MG)</td><td>Região Metropolitana de Belo Horizonte (MG)</td><td>310041210</td><td>3110111</td><td>06</td><td>10</td><td>5</td><td>⋯</td><td>697.8622</td><td>   0.0000</td><td>706.2825</td><td>0</td><td>734.7967</td><td>0</td><td>700.5706</td><td>3100412100610</td><td>1.092827</td><td>1.092867</td></tr>\n",
              "\t<tr><td>2023</td><td>3</td><td>Minas Gerais</td><td>Município de Belo Horizonte (MG)</td><td>Região Metropolitana de Belo Horizonte (MG)</td><td>310041210</td><td>3110111</td><td>06</td><td>10</td><td>5</td><td>⋯</td><td>697.8622</td><td>   0.0000</td><td>706.2825</td><td>0</td><td>734.7967</td><td>0</td><td>700.5706</td><td>3100412100610</td><td>1.092827</td><td>1.092867</td></tr>\n",
              "\t<tr><td>2023</td><td>3</td><td>Minas Gerais</td><td>Município de Belo Horizonte (MG)</td><td>Região Metropolitana de Belo Horizonte (MG)</td><td>310041210</td><td>3110111</td><td>06</td><td>10</td><td>5</td><td>⋯</td><td>697.8622</td><td>   0.0000</td><td>706.2825</td><td>0</td><td>734.7967</td><td>0</td><td>700.5706</td><td>3100412100610</td><td>1.092827</td><td>1.092867</td></tr>\n",
              "\t<tr><td>2023</td><td>3</td><td>Minas Gerais</td><td>Município de Belo Horizonte (MG)</td><td>Região Metropolitana de Belo Horizonte (MG)</td><td>310041210</td><td>3110111</td><td>07</td><td>10</td><td>5</td><td>⋯</td><td>629.6462</td><td>   0.0000</td><td>636.7414</td><td>0</td><td>658.3501</td><td>0</td><td>662.8532</td><td>3100412100710</td><td>1.092827</td><td>1.092867</td></tr>\n",
              "\t<tr><td>2023</td><td>3</td><td>Minas Gerais</td><td>Município de Belo Horizonte (MG)</td><td>Região Metropolitana de Belo Horizonte (MG)</td><td>310041210</td><td>3110111</td><td>07</td><td>10</td><td>5</td><td>⋯</td><td>629.6462</td><td>   0.0000</td><td>636.7414</td><td>0</td><td>658.3501</td><td>0</td><td>662.8532</td><td>3100412100710</td><td>1.092827</td><td>1.092867</td></tr>\n",
              "\t<tr><td>2023</td><td>3</td><td>Minas Gerais</td><td>Município de Belo Horizonte (MG)</td><td>Região Metropolitana de Belo Horizonte (MG)</td><td>310041210</td><td>3110111</td><td>07</td><td>10</td><td>5</td><td>⋯</td><td>629.6462</td><td>   0.0000</td><td>636.7414</td><td>0</td><td>658.3501</td><td>0</td><td>662.8532</td><td>3100412100710</td><td>1.092827</td><td>1.092867</td></tr>\n",
              "\t<tr><td>2023</td><td>3</td><td>Minas Gerais</td><td>Município de Belo Horizonte (MG)</td><td>Região Metropolitana de Belo Horizonte (MG)</td><td>310041210</td><td>3110111</td><td>07</td><td>10</td><td>5</td><td>⋯</td><td>629.6462</td><td>   0.0000</td><td>636.7414</td><td>0</td><td>658.3501</td><td>0</td><td>662.8532</td><td>3100412100710</td><td>1.092827</td><td>1.092867</td></tr>\n",
              "\t<tr><td>2023</td><td>3</td><td>Minas Gerais</td><td>Município de Belo Horizonte (MG)</td><td>Região Metropolitana de Belo Horizonte (MG)</td><td>310041210</td><td>3110111</td><td>08</td><td>10</td><td>5</td><td>⋯</td><td>754.7029</td><td>   0.0000</td><td>772.2411</td><td>0</td><td>814.5020</td><td>0</td><td>820.8559</td><td>3100412100810</td><td>1.092827</td><td>1.092867</td></tr>\n",
              "\t<tr><td>2023</td><td>3</td><td>Minas Gerais</td><td>Município de Belo Horizonte (MG)</td><td>Região Metropolitana de Belo Horizonte (MG)</td><td>310041210</td><td>3110111</td><td>08</td><td>10</td><td>5</td><td>⋯</td><td>754.7029</td><td>   0.0000</td><td>772.2411</td><td>0</td><td>814.5020</td><td>0</td><td>820.8559</td><td>3100412100810</td><td>1.092827</td><td>1.092867</td></tr>\n",
              "\t<tr><td>2023</td><td>3</td><td>Minas Gerais</td><td>Município de Belo Horizonte (MG)</td><td>Região Metropolitana de Belo Horizonte (MG)</td><td>310041210</td><td>3110111</td><td>08</td><td>10</td><td>5</td><td>⋯</td><td>754.7029</td><td>   0.0000</td><td>772.2411</td><td>0</td><td>814.5020</td><td>0</td><td>820.8559</td><td>3100412100810</td><td>1.092827</td><td>1.092867</td></tr>\n",
              "\t<tr><td>2023</td><td>3</td><td>Minas Gerais</td><td>Município de Belo Horizonte (MG)</td><td>Região Metropolitana de Belo Horizonte (MG)</td><td>310041210</td><td>3110111</td><td>09</td><td>10</td><td>5</td><td>⋯</td><td>650.9106</td><td>   0.0000</td><td>664.8596</td><td>0</td><td>688.2834</td><td>0</td><td>678.7152</td><td>3100412100910</td><td>1.092827</td><td>1.092867</td></tr>\n",
              "\t<tr><td>2023</td><td>3</td><td>Minas Gerais</td><td>Município de Belo Horizonte (MG)</td><td>Região Metropolitana de Belo Horizonte (MG)</td><td>310041210</td><td>3110111</td><td>09</td><td>10</td><td>5</td><td>⋯</td><td>650.9106</td><td>   0.0000</td><td>664.8596</td><td>0</td><td>688.2834</td><td>0</td><td>678.7152</td><td>3100412100910</td><td>1.092827</td><td>1.092867</td></tr>\n",
              "\t<tr><td>2023</td><td>3</td><td>Minas Gerais</td><td>Município de Belo Horizonte (MG)</td><td>Região Metropolitana de Belo Horizonte (MG)</td><td>310041210</td><td>3110111</td><td>10</td><td>10</td><td>5</td><td>⋯</td><td>739.3023</td><td>   0.0000</td><td>755.1608</td><td>0</td><td>769.1176</td><td>0</td><td>734.6896</td><td>3100412101010</td><td>1.092827</td><td>1.092867</td></tr>\n",
              "\t<tr><td>2023</td><td>3</td><td>Minas Gerais</td><td>Município de Belo Horizonte (MG)</td><td>Região Metropolitana de Belo Horizonte (MG)</td><td>310041210</td><td>3110111</td><td>10</td><td>10</td><td>5</td><td>⋯</td><td>739.3023</td><td>   0.0000</td><td>755.1608</td><td>0</td><td>769.1176</td><td>0</td><td>734.6896</td><td>3100412101010</td><td>1.092827</td><td>1.092867</td></tr>\n",
              "\t<tr><td>2023</td><td>3</td><td>Minas Gerais</td><td>Município de Belo Horizonte (MG)</td><td>Região Metropolitana de Belo Horizonte (MG)</td><td>310041210</td><td>3110111</td><td>12</td><td>10</td><td>5</td><td>⋯</td><td>804.2259</td><td>   0.0000</td><td>829.1203</td><td>0</td><td>867.8245</td><td>0</td><td>825.4697</td><td>3100412101210</td><td>1.092827</td><td>1.092867</td></tr>\n",
              "\t<tr><td>2023</td><td>3</td><td>Minas Gerais</td><td>Município de Belo Horizonte (MG)</td><td>Região Metropolitana de Belo Horizonte (MG)</td><td>310041210</td><td>3110111</td><td>13</td><td>10</td><td>5</td><td>⋯</td><td>738.3979</td><td>   0.0000</td><td>732.9201</td><td>0</td><td>772.5944</td><td>0</td><td>770.2508</td><td>3100412101310</td><td>1.092827</td><td>1.092867</td></tr>\n",
              "\t<tr><td>2023</td><td>3</td><td>Minas Gerais</td><td>Município de Belo Horizonte (MG)</td><td>Região Metropolitana de Belo Horizonte (MG)</td><td>310050752</td><td>3110111</td><td>01</td><td>10</td><td>5</td><td>⋯</td><td>  0.0000</td><td> 929.7665</td><td>  0.0000</td><td>0</td><td>  0.0000</td><td>0</td><td>  0.0000</td><td>3100507520110</td><td>1.092827</td><td>1.092867</td></tr>\n",
              "\t<tr><td>2023</td><td>3</td><td>Minas Gerais</td><td>Município de Belo Horizonte (MG)</td><td>Região Metropolitana de Belo Horizonte (MG)</td><td>310050752</td><td>3110111</td><td>01</td><td>10</td><td>5</td><td>⋯</td><td>  0.0000</td><td> 929.7665</td><td>  0.0000</td><td>0</td><td>  0.0000</td><td>0</td><td>  0.0000</td><td>3100507520110</td><td>1.092827</td><td>1.092867</td></tr>\n",
              "\t<tr><td>2023</td><td>3</td><td>Minas Gerais</td><td>Município de Belo Horizonte (MG)</td><td>Região Metropolitana de Belo Horizonte (MG)</td><td>310050752</td><td>3110111</td><td>02</td><td>10</td><td>5</td><td>⋯</td><td>  0.0000</td><td>1334.1685</td><td>  0.0000</td><td>0</td><td>  0.0000</td><td>0</td><td>  0.0000</td><td>3100507520210</td><td>1.092827</td><td>1.092867</td></tr>\n",
              "\t<tr><td>2023</td><td>3</td><td>Minas Gerais</td><td>Município de Belo Horizonte (MG)</td><td>Região Metropolitana de Belo Horizonte (MG)</td><td>310050752</td><td>3110111</td><td>02</td><td>10</td><td>5</td><td>⋯</td><td>  0.0000</td><td>1334.1685</td><td>  0.0000</td><td>0</td><td>  0.0000</td><td>0</td><td>  0.0000</td><td>3100507520210</td><td>1.092827</td><td>1.092867</td></tr>\n",
              "\t<tr><td>2023</td><td>3</td><td>Minas Gerais</td><td>Município de Belo Horizonte (MG)</td><td>Região Metropolitana de Belo Horizonte (MG)</td><td>310050752</td><td>3110111</td><td>02</td><td>10</td><td>5</td><td>⋯</td><td>  0.0000</td><td>1334.1685</td><td>  0.0000</td><td>0</td><td>  0.0000</td><td>0</td><td>  0.0000</td><td>3100507520210</td><td>1.092827</td><td>1.092867</td></tr>\n",
              "\t<tr><td>⋮</td><td>⋮</td><td>⋮</td><td>⋮</td><td>⋮</td><td>⋮</td><td>⋮</td><td>⋮</td><td>⋮</td><td>⋮</td><td>⋱</td><td>⋮</td><td>⋮</td><td>⋮</td><td>⋮</td><td>⋮</td><td>⋮</td><td>⋮</td><td>⋮</td><td>⋮</td><td>⋮</td></tr>\n",
              "\t<tr><td>2023</td><td>3</td><td>Minas Gerais</td><td>NA</td><td>NA</td><td>310567185</td><td>3156022</td><td>14</td><td>11</td><td>2</td><td>⋯</td><td>190.51293</td><td>179.4435</td><td>189.82857</td><td>364.5182</td><td>377.2666</td><td>184.5506</td><td>  0.00000</td><td>3105671851411</td><td>1.092827</td><td>1.092867</td></tr>\n",
              "\t<tr><td>2023</td><td>3</td><td>Minas Gerais</td><td>NA</td><td>NA</td><td>310567185</td><td>3156022</td><td>14</td><td>11</td><td>2</td><td>⋯</td><td>190.51293</td><td>179.4435</td><td>189.82857</td><td>364.5182</td><td>377.2666</td><td>184.5506</td><td>  0.00000</td><td>3105671851411</td><td>1.092827</td><td>1.092867</td></tr>\n",
              "\t<tr><td>2023</td><td>3</td><td>Minas Gerais</td><td>NA</td><td>NA</td><td>310567185</td><td>3156022</td><td>14</td><td>11</td><td>2</td><td>⋯</td><td>190.51293</td><td>179.4435</td><td>189.82857</td><td>364.5182</td><td>377.2666</td><td>184.5506</td><td>  0.00000</td><td>3105671851411</td><td>1.092827</td><td>1.092867</td></tr>\n",
              "\t<tr><td>2023</td><td>3</td><td>Minas Gerais</td><td>NA</td><td>NA</td><td>310577244</td><td>3156022</td><td>02</td><td>11</td><td>2</td><td>⋯</td><td> 68.74621</td><td>136.0315</td><td> 67.75083</td><td>  0.0000</td><td>  0.0000</td><td>  0.0000</td><td> 68.02943</td><td>3105772440211</td><td>1.092827</td><td>1.092867</td></tr>\n",
              "\t<tr><td>2023</td><td>3</td><td>Minas Gerais</td><td>NA</td><td>NA</td><td>310577244</td><td>3156022</td><td>02</td><td>11</td><td>2</td><td>⋯</td><td> 68.74621</td><td>136.0315</td><td> 67.75083</td><td>  0.0000</td><td>  0.0000</td><td>  0.0000</td><td> 68.02943</td><td>3105772440211</td><td>1.092827</td><td>1.092867</td></tr>\n",
              "\t<tr><td>2023</td><td>3</td><td>Minas Gerais</td><td>NA</td><td>NA</td><td>310577244</td><td>3156022</td><td>03</td><td>11</td><td>2</td><td>⋯</td><td>119.04690</td><td>227.2428</td><td>119.45433</td><td>  0.0000</td><td>  0.0000</td><td>  0.0000</td><td>119.91924</td><td>3105772440311</td><td>1.092827</td><td>1.092867</td></tr>\n",
              "\t<tr><td>2023</td><td>3</td><td>Minas Gerais</td><td>NA</td><td>NA</td><td>310577244</td><td>3156022</td><td>03</td><td>11</td><td>2</td><td>⋯</td><td>119.04690</td><td>227.2428</td><td>119.45433</td><td>  0.0000</td><td>  0.0000</td><td>  0.0000</td><td>119.91924</td><td>3105772440311</td><td>1.092827</td><td>1.092867</td></tr>\n",
              "\t<tr><td>2023</td><td>3</td><td>Minas Gerais</td><td>NA</td><td>NA</td><td>310577244</td><td>3156022</td><td>04</td><td>11</td><td>2</td><td>⋯</td><td> 81.61741</td><td>160.3709</td><td> 79.10998</td><td>  0.0000</td><td>  0.0000</td><td>  0.0000</td><td> 81.09544</td><td>3105772440411</td><td>1.092827</td><td>1.092867</td></tr>\n",
              "\t<tr><td>2023</td><td>3</td><td>Minas Gerais</td><td>NA</td><td>NA</td><td>310577244</td><td>3156022</td><td>04</td><td>11</td><td>2</td><td>⋯</td><td> 81.61741</td><td>160.3709</td><td> 79.10998</td><td>  0.0000</td><td>  0.0000</td><td>  0.0000</td><td> 81.09544</td><td>3105772440411</td><td>1.092827</td><td>1.092867</td></tr>\n",
              "\t<tr><td>2023</td><td>3</td><td>Minas Gerais</td><td>NA</td><td>NA</td><td>310577244</td><td>3156022</td><td>04</td><td>11</td><td>2</td><td>⋯</td><td> 81.61741</td><td>160.3709</td><td> 79.10998</td><td>  0.0000</td><td>  0.0000</td><td>  0.0000</td><td> 81.09544</td><td>3105772440411</td><td>1.092827</td><td>1.092867</td></tr>\n",
              "\t<tr><td>2023</td><td>3</td><td>Minas Gerais</td><td>NA</td><td>NA</td><td>310577244</td><td>3156022</td><td>06</td><td>11</td><td>2</td><td>⋯</td><td>132.60534</td><td>279.3051</td><td>137.03784</td><td>  0.0000</td><td>  0.0000</td><td>  0.0000</td><td>143.10393</td><td>3105772440611</td><td>1.092827</td><td>1.092867</td></tr>\n",
              "\t<tr><td>2023</td><td>3</td><td>Minas Gerais</td><td>NA</td><td>NA</td><td>310577244</td><td>3156022</td><td>08</td><td>11</td><td>2</td><td>⋯</td><td> 91.33515</td><td>174.4530</td><td> 92.71532</td><td>  0.0000</td><td>  0.0000</td><td>  0.0000</td><td> 93.13657</td><td>3105772440811</td><td>1.092827</td><td>1.092867</td></tr>\n",
              "\t<tr><td>2023</td><td>3</td><td>Minas Gerais</td><td>NA</td><td>NA</td><td>310577244</td><td>3156022</td><td>08</td><td>11</td><td>2</td><td>⋯</td><td> 91.33515</td><td>174.4530</td><td> 92.71532</td><td>  0.0000</td><td>  0.0000</td><td>  0.0000</td><td> 93.13657</td><td>3105772440811</td><td>1.092827</td><td>1.092867</td></tr>\n",
              "\t<tr><td>2023</td><td>3</td><td>Minas Gerais</td><td>NA</td><td>NA</td><td>310577244</td><td>3156022</td><td>08</td><td>11</td><td>2</td><td>⋯</td><td> 91.33515</td><td>174.4530</td><td> 92.71532</td><td>  0.0000</td><td>  0.0000</td><td>  0.0000</td><td> 93.13657</td><td>3105772440811</td><td>1.092827</td><td>1.092867</td></tr>\n",
              "\t<tr><td>2023</td><td>3</td><td>Minas Gerais</td><td>NA</td><td>NA</td><td>310577244</td><td>3156022</td><td>08</td><td>11</td><td>2</td><td>⋯</td><td> 91.33515</td><td>174.4530</td><td> 92.71532</td><td>  0.0000</td><td>  0.0000</td><td>  0.0000</td><td> 93.13657</td><td>3105772440811</td><td>1.092827</td><td>1.092867</td></tr>\n",
              "\t<tr><td>2023</td><td>3</td><td>Minas Gerais</td><td>NA</td><td>NA</td><td>310577244</td><td>3156022</td><td>09</td><td>11</td><td>2</td><td>⋯</td><td> 69.73720</td><td>130.8807</td><td> 69.11707</td><td>  0.0000</td><td>  0.0000</td><td>  0.0000</td><td> 71.20204</td><td>3105772440911</td><td>1.092827</td><td>1.092867</td></tr>\n",
              "\t<tr><td>2023</td><td>3</td><td>Minas Gerais</td><td>NA</td><td>NA</td><td>310577244</td><td>3156022</td><td>09</td><td>11</td><td>2</td><td>⋯</td><td> 69.73720</td><td>130.8807</td><td> 69.11707</td><td>  0.0000</td><td>  0.0000</td><td>  0.0000</td><td> 71.20204</td><td>3105772440911</td><td>1.092827</td><td>1.092867</td></tr>\n",
              "\t<tr><td>2023</td><td>3</td><td>Minas Gerais</td><td>NA</td><td>NA</td><td>310577244</td><td>3156022</td><td>10</td><td>11</td><td>2</td><td>⋯</td><td>123.17578</td><td>231.7939</td><td>119.35857</td><td>  0.0000</td><td>  0.0000</td><td>  0.0000</td><td>119.16405</td><td>3105772441011</td><td>1.092827</td><td>1.092867</td></tr>\n",
              "\t<tr><td>2023</td><td>3</td><td>Minas Gerais</td><td>NA</td><td>NA</td><td>310577244</td><td>3156022</td><td>10</td><td>11</td><td>2</td><td>⋯</td><td>123.17578</td><td>231.7939</td><td>119.35857</td><td>  0.0000</td><td>  0.0000</td><td>  0.0000</td><td>119.16405</td><td>3105772441011</td><td>1.092827</td><td>1.092867</td></tr>\n",
              "\t<tr><td>2023</td><td>3</td><td>Minas Gerais</td><td>NA</td><td>NA</td><td>310577244</td><td>3156022</td><td>11</td><td>11</td><td>2</td><td>⋯</td><td> 82.10909</td><td>158.6869</td><td> 80.09221</td><td>  0.0000</td><td>  0.0000</td><td>  0.0000</td><td> 80.71833</td><td>3105772441111</td><td>1.092827</td><td>1.092867</td></tr>\n",
              "\t<tr><td>2023</td><td>3</td><td>Minas Gerais</td><td>NA</td><td>NA</td><td>310577244</td><td>3156022</td><td>11</td><td>11</td><td>2</td><td>⋯</td><td> 82.10909</td><td>158.6869</td><td> 80.09221</td><td>  0.0000</td><td>  0.0000</td><td>  0.0000</td><td> 80.71833</td><td>3105772441111</td><td>1.092827</td><td>1.092867</td></tr>\n",
              "\t<tr><td>2023</td><td>3</td><td>Minas Gerais</td><td>NA</td><td>NA</td><td>310577244</td><td>3156022</td><td>11</td><td>11</td><td>2</td><td>⋯</td><td> 82.10909</td><td>158.6869</td><td> 80.09221</td><td>  0.0000</td><td>  0.0000</td><td>  0.0000</td><td> 80.71833</td><td>3105772441111</td><td>1.092827</td><td>1.092867</td></tr>\n",
              "\t<tr><td>2023</td><td>3</td><td>Minas Gerais</td><td>NA</td><td>NA</td><td>310577244</td><td>3156022</td><td>11</td><td>11</td><td>2</td><td>⋯</td><td> 82.10909</td><td>158.6869</td><td> 80.09221</td><td>  0.0000</td><td>  0.0000</td><td>  0.0000</td><td> 80.71833</td><td>3105772441111</td><td>1.092827</td><td>1.092867</td></tr>\n",
              "\t<tr><td>2023</td><td>3</td><td>Minas Gerais</td><td>NA</td><td>NA</td><td>310577244</td><td>3156022</td><td>11</td><td>11</td><td>2</td><td>⋯</td><td> 82.10909</td><td>158.6869</td><td> 80.09221</td><td>  0.0000</td><td>  0.0000</td><td>  0.0000</td><td> 80.71833</td><td>3105772441111</td><td>1.092827</td><td>1.092867</td></tr>\n",
              "\t<tr><td>2023</td><td>3</td><td>Minas Gerais</td><td>NA</td><td>NA</td><td>310577244</td><td>3156022</td><td>11</td><td>11</td><td>2</td><td>⋯</td><td> 82.10909</td><td>158.6869</td><td> 80.09221</td><td>  0.0000</td><td>  0.0000</td><td>  0.0000</td><td> 80.71833</td><td>3105772441111</td><td>1.092827</td><td>1.092867</td></tr>\n",
              "\t<tr><td>2023</td><td>3</td><td>Minas Gerais</td><td>NA</td><td>NA</td><td>310577244</td><td>3156022</td><td>12</td><td>11</td><td>2</td><td>⋯</td><td> 78.60127</td><td>151.9700</td><td> 77.21931</td><td>  0.0000</td><td>  0.0000</td><td>  0.0000</td><td> 77.57544</td><td>3105772441211</td><td>1.092827</td><td>1.092867</td></tr>\n",
              "\t<tr><td>2023</td><td>3</td><td>Minas Gerais</td><td>NA</td><td>NA</td><td>310577244</td><td>3156022</td><td>12</td><td>11</td><td>2</td><td>⋯</td><td> 78.60127</td><td>151.9700</td><td> 77.21931</td><td>  0.0000</td><td>  0.0000</td><td>  0.0000</td><td> 77.57544</td><td>3105772441211</td><td>1.092827</td><td>1.092867</td></tr>\n",
              "\t<tr><td>2023</td><td>3</td><td>Minas Gerais</td><td>NA</td><td>NA</td><td>310577244</td><td>3156022</td><td>14</td><td>11</td><td>2</td><td>⋯</td><td> 74.51449</td><td>141.2972</td><td> 74.28256</td><td>  0.0000</td><td>  0.0000</td><td>  0.0000</td><td> 75.08425</td><td>3105772441411</td><td>1.092827</td><td>1.092867</td></tr>\n",
              "\t<tr><td>2023</td><td>3</td><td>Minas Gerais</td><td>NA</td><td>NA</td><td>310577244</td><td>3156022</td><td>14</td><td>11</td><td>2</td><td>⋯</td><td> 74.51449</td><td>141.2972</td><td> 74.28256</td><td>  0.0000</td><td>  0.0000</td><td>  0.0000</td><td> 75.08425</td><td>3105772441411</td><td>1.092827</td><td>1.092867</td></tr>\n",
              "\t<tr><td>2023</td><td>3</td><td>Minas Gerais</td><td>NA</td><td>NA</td><td>310577244</td><td>3156022</td><td>14</td><td>11</td><td>2</td><td>⋯</td><td> 74.51449</td><td>141.2972</td><td> 74.28256</td><td>  0.0000</td><td>  0.0000</td><td>  0.0000</td><td> 75.08425</td><td>3105772441411</td><td>1.092827</td><td>1.092867</td></tr>\n",
              "</tbody>\n",
              "</table>\n"
            ],
            "text/latex": "A tibble: 35473 × 423\n\\begin{tabular}{lllllllllllllllllllll}\n Ano & Trimestre & UF & Capital & RM\\_RIDE & UPA & Estrato & V1008 & V1014 & V1016 & ⋯ & V1028194 & V1028195 & V1028196 & V1028197 & V1028198 & V1028199 & V1028200 & ID\\_DOMICILIO & Habitual & Efetivo\\\\\n <chr> & <chr> & <fct> & <fct> & <fct> & <chr> & <chr> & <chr> & <chr> & <chr> & ⋯ & <dbl> & <dbl> & <dbl> & <dbl> & <dbl> & <dbl> & <dbl> & <chr> & <dbl> & <dbl>\\\\\n\\hline\n\t 2023 & 3 & Minas Gerais & Município de Belo Horizonte (MG) & Região Metropolitana de Belo Horizonte (MG) & 310041210 & 3110111 & 01 & 10 & 5 & ⋯ & 634.2538 &    0.0000 & 685.3165 & 0 & 696.6791 & 0 & 687.2363 & 3100412100110 & 1.092827 & 1.092867\\\\\n\t 2023 & 3 & Minas Gerais & Município de Belo Horizonte (MG) & Região Metropolitana de Belo Horizonte (MG) & 310041210 & 3110111 & 01 & 10 & 5 & ⋯ & 634.2538 &    0.0000 & 685.3165 & 0 & 696.6791 & 0 & 687.2363 & 3100412100110 & 1.092827 & 1.092867\\\\\n\t 2023 & 3 & Minas Gerais & Município de Belo Horizonte (MG) & Região Metropolitana de Belo Horizonte (MG) & 310041210 & 3110111 & 02 & 10 & 5 & ⋯ & 936.5501 &    0.0000 & 943.7046 & 0 & 973.6742 & 0 & 980.2739 & 3100412100210 & 1.092827 & 1.092867\\\\\n\t 2023 & 3 & Minas Gerais & Município de Belo Horizonte (MG) & Região Metropolitana de Belo Horizonte (MG) & 310041210 & 3110111 & 02 & 10 & 5 & ⋯ & 936.5501 &    0.0000 & 943.7046 & 0 & 973.6742 & 0 & 980.2739 & 3100412100210 & 1.092827 & 1.092867\\\\\n\t 2023 & 3 & Minas Gerais & Município de Belo Horizonte (MG) & Região Metropolitana de Belo Horizonte (MG) & 310041210 & 3110111 & 03 & 10 & 5 & ⋯ & 545.7090 &    0.0000 & 546.7870 & 0 & 576.3776 & 0 & 564.9423 & 3100412100310 & 1.092827 & 1.092867\\\\\n\t 2023 & 3 & Minas Gerais & Município de Belo Horizonte (MG) & Região Metropolitana de Belo Horizonte (MG) & 310041210 & 3110111 & 03 & 10 & 5 & ⋯ & 545.7090 &    0.0000 & 546.7870 & 0 & 576.3776 & 0 & 564.9423 & 3100412100310 & 1.092827 & 1.092867\\\\\n\t 2023 & 3 & Minas Gerais & Município de Belo Horizonte (MG) & Região Metropolitana de Belo Horizonte (MG) & 310041210 & 3110111 & 04 & 10 & 5 & ⋯ & 578.6639 &    0.0000 & 537.8354 & 0 & 533.8028 & 0 & 586.3673 & 3100412100410 & 1.092827 & 1.092867\\\\\n\t 2023 & 3 & Minas Gerais & Município de Belo Horizonte (MG) & Região Metropolitana de Belo Horizonte (MG) & 310041210 & 3110111 & 05 & 10 & 5 & ⋯ & 687.6341 &    0.0000 & 675.2866 & 0 & 708.8784 & 0 & 695.8344 & 3100412100510 & 1.092827 & 1.092867\\\\\n\t 2023 & 3 & Minas Gerais & Município de Belo Horizonte (MG) & Região Metropolitana de Belo Horizonte (MG) & 310041210 & 3110111 & 05 & 10 & 5 & ⋯ & 687.6341 &    0.0000 & 675.2866 & 0 & 708.8784 & 0 & 695.8344 & 3100412100510 & 1.092827 & 1.092867\\\\\n\t 2023 & 3 & Minas Gerais & Município de Belo Horizonte (MG) & Região Metropolitana de Belo Horizonte (MG) & 310041210 & 3110111 & 06 & 10 & 5 & ⋯ & 697.8622 &    0.0000 & 706.2825 & 0 & 734.7967 & 0 & 700.5706 & 3100412100610 & 1.092827 & 1.092867\\\\\n\t 2023 & 3 & Minas Gerais & Município de Belo Horizonte (MG) & Região Metropolitana de Belo Horizonte (MG) & 310041210 & 3110111 & 06 & 10 & 5 & ⋯ & 697.8622 &    0.0000 & 706.2825 & 0 & 734.7967 & 0 & 700.5706 & 3100412100610 & 1.092827 & 1.092867\\\\\n\t 2023 & 3 & Minas Gerais & Município de Belo Horizonte (MG) & Região Metropolitana de Belo Horizonte (MG) & 310041210 & 3110111 & 06 & 10 & 5 & ⋯ & 697.8622 &    0.0000 & 706.2825 & 0 & 734.7967 & 0 & 700.5706 & 3100412100610 & 1.092827 & 1.092867\\\\\n\t 2023 & 3 & Minas Gerais & Município de Belo Horizonte (MG) & Região Metropolitana de Belo Horizonte (MG) & 310041210 & 3110111 & 07 & 10 & 5 & ⋯ & 629.6462 &    0.0000 & 636.7414 & 0 & 658.3501 & 0 & 662.8532 & 3100412100710 & 1.092827 & 1.092867\\\\\n\t 2023 & 3 & Minas Gerais & Município de Belo Horizonte (MG) & Região Metropolitana de Belo Horizonte (MG) & 310041210 & 3110111 & 07 & 10 & 5 & ⋯ & 629.6462 &    0.0000 & 636.7414 & 0 & 658.3501 & 0 & 662.8532 & 3100412100710 & 1.092827 & 1.092867\\\\\n\t 2023 & 3 & Minas Gerais & Município de Belo Horizonte (MG) & Região Metropolitana de Belo Horizonte (MG) & 310041210 & 3110111 & 07 & 10 & 5 & ⋯ & 629.6462 &    0.0000 & 636.7414 & 0 & 658.3501 & 0 & 662.8532 & 3100412100710 & 1.092827 & 1.092867\\\\\n\t 2023 & 3 & Minas Gerais & Município de Belo Horizonte (MG) & Região Metropolitana de Belo Horizonte (MG) & 310041210 & 3110111 & 07 & 10 & 5 & ⋯ & 629.6462 &    0.0000 & 636.7414 & 0 & 658.3501 & 0 & 662.8532 & 3100412100710 & 1.092827 & 1.092867\\\\\n\t 2023 & 3 & Minas Gerais & Município de Belo Horizonte (MG) & Região Metropolitana de Belo Horizonte (MG) & 310041210 & 3110111 & 08 & 10 & 5 & ⋯ & 754.7029 &    0.0000 & 772.2411 & 0 & 814.5020 & 0 & 820.8559 & 3100412100810 & 1.092827 & 1.092867\\\\\n\t 2023 & 3 & Minas Gerais & Município de Belo Horizonte (MG) & Região Metropolitana de Belo Horizonte (MG) & 310041210 & 3110111 & 08 & 10 & 5 & ⋯ & 754.7029 &    0.0000 & 772.2411 & 0 & 814.5020 & 0 & 820.8559 & 3100412100810 & 1.092827 & 1.092867\\\\\n\t 2023 & 3 & Minas Gerais & Município de Belo Horizonte (MG) & Região Metropolitana de Belo Horizonte (MG) & 310041210 & 3110111 & 08 & 10 & 5 & ⋯ & 754.7029 &    0.0000 & 772.2411 & 0 & 814.5020 & 0 & 820.8559 & 3100412100810 & 1.092827 & 1.092867\\\\\n\t 2023 & 3 & Minas Gerais & Município de Belo Horizonte (MG) & Região Metropolitana de Belo Horizonte (MG) & 310041210 & 3110111 & 09 & 10 & 5 & ⋯ & 650.9106 &    0.0000 & 664.8596 & 0 & 688.2834 & 0 & 678.7152 & 3100412100910 & 1.092827 & 1.092867\\\\\n\t 2023 & 3 & Minas Gerais & Município de Belo Horizonte (MG) & Região Metropolitana de Belo Horizonte (MG) & 310041210 & 3110111 & 09 & 10 & 5 & ⋯ & 650.9106 &    0.0000 & 664.8596 & 0 & 688.2834 & 0 & 678.7152 & 3100412100910 & 1.092827 & 1.092867\\\\\n\t 2023 & 3 & Minas Gerais & Município de Belo Horizonte (MG) & Região Metropolitana de Belo Horizonte (MG) & 310041210 & 3110111 & 10 & 10 & 5 & ⋯ & 739.3023 &    0.0000 & 755.1608 & 0 & 769.1176 & 0 & 734.6896 & 3100412101010 & 1.092827 & 1.092867\\\\\n\t 2023 & 3 & Minas Gerais & Município de Belo Horizonte (MG) & Região Metropolitana de Belo Horizonte (MG) & 310041210 & 3110111 & 10 & 10 & 5 & ⋯ & 739.3023 &    0.0000 & 755.1608 & 0 & 769.1176 & 0 & 734.6896 & 3100412101010 & 1.092827 & 1.092867\\\\\n\t 2023 & 3 & Minas Gerais & Município de Belo Horizonte (MG) & Região Metropolitana de Belo Horizonte (MG) & 310041210 & 3110111 & 12 & 10 & 5 & ⋯ & 804.2259 &    0.0000 & 829.1203 & 0 & 867.8245 & 0 & 825.4697 & 3100412101210 & 1.092827 & 1.092867\\\\\n\t 2023 & 3 & Minas Gerais & Município de Belo Horizonte (MG) & Região Metropolitana de Belo Horizonte (MG) & 310041210 & 3110111 & 13 & 10 & 5 & ⋯ & 738.3979 &    0.0000 & 732.9201 & 0 & 772.5944 & 0 & 770.2508 & 3100412101310 & 1.092827 & 1.092867\\\\\n\t 2023 & 3 & Minas Gerais & Município de Belo Horizonte (MG) & Região Metropolitana de Belo Horizonte (MG) & 310050752 & 3110111 & 01 & 10 & 5 & ⋯ &   0.0000 &  929.7665 &   0.0000 & 0 &   0.0000 & 0 &   0.0000 & 3100507520110 & 1.092827 & 1.092867\\\\\n\t 2023 & 3 & Minas Gerais & Município de Belo Horizonte (MG) & Região Metropolitana de Belo Horizonte (MG) & 310050752 & 3110111 & 01 & 10 & 5 & ⋯ &   0.0000 &  929.7665 &   0.0000 & 0 &   0.0000 & 0 &   0.0000 & 3100507520110 & 1.092827 & 1.092867\\\\\n\t 2023 & 3 & Minas Gerais & Município de Belo Horizonte (MG) & Região Metropolitana de Belo Horizonte (MG) & 310050752 & 3110111 & 02 & 10 & 5 & ⋯ &   0.0000 & 1334.1685 &   0.0000 & 0 &   0.0000 & 0 &   0.0000 & 3100507520210 & 1.092827 & 1.092867\\\\\n\t 2023 & 3 & Minas Gerais & Município de Belo Horizonte (MG) & Região Metropolitana de Belo Horizonte (MG) & 310050752 & 3110111 & 02 & 10 & 5 & ⋯ &   0.0000 & 1334.1685 &   0.0000 & 0 &   0.0000 & 0 &   0.0000 & 3100507520210 & 1.092827 & 1.092867\\\\\n\t 2023 & 3 & Minas Gerais & Município de Belo Horizonte (MG) & Região Metropolitana de Belo Horizonte (MG) & 310050752 & 3110111 & 02 & 10 & 5 & ⋯ &   0.0000 & 1334.1685 &   0.0000 & 0 &   0.0000 & 0 &   0.0000 & 3100507520210 & 1.092827 & 1.092867\\\\\n\t ⋮ & ⋮ & ⋮ & ⋮ & ⋮ & ⋮ & ⋮ & ⋮ & ⋮ & ⋮ & ⋱ & ⋮ & ⋮ & ⋮ & ⋮ & ⋮ & ⋮ & ⋮ & ⋮ & ⋮ & ⋮\\\\\n\t 2023 & 3 & Minas Gerais & NA & NA & 310567185 & 3156022 & 14 & 11 & 2 & ⋯ & 190.51293 & 179.4435 & 189.82857 & 364.5182 & 377.2666 & 184.5506 &   0.00000 & 3105671851411 & 1.092827 & 1.092867\\\\\n\t 2023 & 3 & Minas Gerais & NA & NA & 310567185 & 3156022 & 14 & 11 & 2 & ⋯ & 190.51293 & 179.4435 & 189.82857 & 364.5182 & 377.2666 & 184.5506 &   0.00000 & 3105671851411 & 1.092827 & 1.092867\\\\\n\t 2023 & 3 & Minas Gerais & NA & NA & 310567185 & 3156022 & 14 & 11 & 2 & ⋯ & 190.51293 & 179.4435 & 189.82857 & 364.5182 & 377.2666 & 184.5506 &   0.00000 & 3105671851411 & 1.092827 & 1.092867\\\\\n\t 2023 & 3 & Minas Gerais & NA & NA & 310577244 & 3156022 & 02 & 11 & 2 & ⋯ &  68.74621 & 136.0315 &  67.75083 &   0.0000 &   0.0000 &   0.0000 &  68.02943 & 3105772440211 & 1.092827 & 1.092867\\\\\n\t 2023 & 3 & Minas Gerais & NA & NA & 310577244 & 3156022 & 02 & 11 & 2 & ⋯ &  68.74621 & 136.0315 &  67.75083 &   0.0000 &   0.0000 &   0.0000 &  68.02943 & 3105772440211 & 1.092827 & 1.092867\\\\\n\t 2023 & 3 & Minas Gerais & NA & NA & 310577244 & 3156022 & 03 & 11 & 2 & ⋯ & 119.04690 & 227.2428 & 119.45433 &   0.0000 &   0.0000 &   0.0000 & 119.91924 & 3105772440311 & 1.092827 & 1.092867\\\\\n\t 2023 & 3 & Minas Gerais & NA & NA & 310577244 & 3156022 & 03 & 11 & 2 & ⋯ & 119.04690 & 227.2428 & 119.45433 &   0.0000 &   0.0000 &   0.0000 & 119.91924 & 3105772440311 & 1.092827 & 1.092867\\\\\n\t 2023 & 3 & Minas Gerais & NA & NA & 310577244 & 3156022 & 04 & 11 & 2 & ⋯ &  81.61741 & 160.3709 &  79.10998 &   0.0000 &   0.0000 &   0.0000 &  81.09544 & 3105772440411 & 1.092827 & 1.092867\\\\\n\t 2023 & 3 & Minas Gerais & NA & NA & 310577244 & 3156022 & 04 & 11 & 2 & ⋯ &  81.61741 & 160.3709 &  79.10998 &   0.0000 &   0.0000 &   0.0000 &  81.09544 & 3105772440411 & 1.092827 & 1.092867\\\\\n\t 2023 & 3 & Minas Gerais & NA & NA & 310577244 & 3156022 & 04 & 11 & 2 & ⋯ &  81.61741 & 160.3709 &  79.10998 &   0.0000 &   0.0000 &   0.0000 &  81.09544 & 3105772440411 & 1.092827 & 1.092867\\\\\n\t 2023 & 3 & Minas Gerais & NA & NA & 310577244 & 3156022 & 06 & 11 & 2 & ⋯ & 132.60534 & 279.3051 & 137.03784 &   0.0000 &   0.0000 &   0.0000 & 143.10393 & 3105772440611 & 1.092827 & 1.092867\\\\\n\t 2023 & 3 & Minas Gerais & NA & NA & 310577244 & 3156022 & 08 & 11 & 2 & ⋯ &  91.33515 & 174.4530 &  92.71532 &   0.0000 &   0.0000 &   0.0000 &  93.13657 & 3105772440811 & 1.092827 & 1.092867\\\\\n\t 2023 & 3 & Minas Gerais & NA & NA & 310577244 & 3156022 & 08 & 11 & 2 & ⋯ &  91.33515 & 174.4530 &  92.71532 &   0.0000 &   0.0000 &   0.0000 &  93.13657 & 3105772440811 & 1.092827 & 1.092867\\\\\n\t 2023 & 3 & Minas Gerais & NA & NA & 310577244 & 3156022 & 08 & 11 & 2 & ⋯ &  91.33515 & 174.4530 &  92.71532 &   0.0000 &   0.0000 &   0.0000 &  93.13657 & 3105772440811 & 1.092827 & 1.092867\\\\\n\t 2023 & 3 & Minas Gerais & NA & NA & 310577244 & 3156022 & 08 & 11 & 2 & ⋯ &  91.33515 & 174.4530 &  92.71532 &   0.0000 &   0.0000 &   0.0000 &  93.13657 & 3105772440811 & 1.092827 & 1.092867\\\\\n\t 2023 & 3 & Minas Gerais & NA & NA & 310577244 & 3156022 & 09 & 11 & 2 & ⋯ &  69.73720 & 130.8807 &  69.11707 &   0.0000 &   0.0000 &   0.0000 &  71.20204 & 3105772440911 & 1.092827 & 1.092867\\\\\n\t 2023 & 3 & Minas Gerais & NA & NA & 310577244 & 3156022 & 09 & 11 & 2 & ⋯ &  69.73720 & 130.8807 &  69.11707 &   0.0000 &   0.0000 &   0.0000 &  71.20204 & 3105772440911 & 1.092827 & 1.092867\\\\\n\t 2023 & 3 & Minas Gerais & NA & NA & 310577244 & 3156022 & 10 & 11 & 2 & ⋯ & 123.17578 & 231.7939 & 119.35857 &   0.0000 &   0.0000 &   0.0000 & 119.16405 & 3105772441011 & 1.092827 & 1.092867\\\\\n\t 2023 & 3 & Minas Gerais & NA & NA & 310577244 & 3156022 & 10 & 11 & 2 & ⋯ & 123.17578 & 231.7939 & 119.35857 &   0.0000 &   0.0000 &   0.0000 & 119.16405 & 3105772441011 & 1.092827 & 1.092867\\\\\n\t 2023 & 3 & Minas Gerais & NA & NA & 310577244 & 3156022 & 11 & 11 & 2 & ⋯ &  82.10909 & 158.6869 &  80.09221 &   0.0000 &   0.0000 &   0.0000 &  80.71833 & 3105772441111 & 1.092827 & 1.092867\\\\\n\t 2023 & 3 & Minas Gerais & NA & NA & 310577244 & 3156022 & 11 & 11 & 2 & ⋯ &  82.10909 & 158.6869 &  80.09221 &   0.0000 &   0.0000 &   0.0000 &  80.71833 & 3105772441111 & 1.092827 & 1.092867\\\\\n\t 2023 & 3 & Minas Gerais & NA & NA & 310577244 & 3156022 & 11 & 11 & 2 & ⋯ &  82.10909 & 158.6869 &  80.09221 &   0.0000 &   0.0000 &   0.0000 &  80.71833 & 3105772441111 & 1.092827 & 1.092867\\\\\n\t 2023 & 3 & Minas Gerais & NA & NA & 310577244 & 3156022 & 11 & 11 & 2 & ⋯ &  82.10909 & 158.6869 &  80.09221 &   0.0000 &   0.0000 &   0.0000 &  80.71833 & 3105772441111 & 1.092827 & 1.092867\\\\\n\t 2023 & 3 & Minas Gerais & NA & NA & 310577244 & 3156022 & 11 & 11 & 2 & ⋯ &  82.10909 & 158.6869 &  80.09221 &   0.0000 &   0.0000 &   0.0000 &  80.71833 & 3105772441111 & 1.092827 & 1.092867\\\\\n\t 2023 & 3 & Minas Gerais & NA & NA & 310577244 & 3156022 & 11 & 11 & 2 & ⋯ &  82.10909 & 158.6869 &  80.09221 &   0.0000 &   0.0000 &   0.0000 &  80.71833 & 3105772441111 & 1.092827 & 1.092867\\\\\n\t 2023 & 3 & Minas Gerais & NA & NA & 310577244 & 3156022 & 12 & 11 & 2 & ⋯ &  78.60127 & 151.9700 &  77.21931 &   0.0000 &   0.0000 &   0.0000 &  77.57544 & 3105772441211 & 1.092827 & 1.092867\\\\\n\t 2023 & 3 & Minas Gerais & NA & NA & 310577244 & 3156022 & 12 & 11 & 2 & ⋯ &  78.60127 & 151.9700 &  77.21931 &   0.0000 &   0.0000 &   0.0000 &  77.57544 & 3105772441211 & 1.092827 & 1.092867\\\\\n\t 2023 & 3 & Minas Gerais & NA & NA & 310577244 & 3156022 & 14 & 11 & 2 & ⋯ &  74.51449 & 141.2972 &  74.28256 &   0.0000 &   0.0000 &   0.0000 &  75.08425 & 3105772441411 & 1.092827 & 1.092867\\\\\n\t 2023 & 3 & Minas Gerais & NA & NA & 310577244 & 3156022 & 14 & 11 & 2 & ⋯ &  74.51449 & 141.2972 &  74.28256 &   0.0000 &   0.0000 &   0.0000 &  75.08425 & 3105772441411 & 1.092827 & 1.092867\\\\\n\t 2023 & 3 & Minas Gerais & NA & NA & 310577244 & 3156022 & 14 & 11 & 2 & ⋯ &  74.51449 & 141.2972 &  74.28256 &   0.0000 &   0.0000 &   0.0000 &  75.08425 & 3105772441411 & 1.092827 & 1.092867\\\\\n\\end{tabular}\n",
            "text/markdown": "\nA tibble: 35473 × 423\n\n| Ano &lt;chr&gt; | Trimestre &lt;chr&gt; | UF &lt;fct&gt; | Capital &lt;fct&gt; | RM_RIDE &lt;fct&gt; | UPA &lt;chr&gt; | Estrato &lt;chr&gt; | V1008 &lt;chr&gt; | V1014 &lt;chr&gt; | V1016 &lt;chr&gt; | ⋯ ⋯ | V1028194 &lt;dbl&gt; | V1028195 &lt;dbl&gt; | V1028196 &lt;dbl&gt; | V1028197 &lt;dbl&gt; | V1028198 &lt;dbl&gt; | V1028199 &lt;dbl&gt; | V1028200 &lt;dbl&gt; | ID_DOMICILIO &lt;chr&gt; | Habitual &lt;dbl&gt; | Efetivo &lt;dbl&gt; |\n|---|---|---|---|---|---|---|---|---|---|---|---|---|---|---|---|---|---|---|---|---|\n| 2023 | 3 | Minas Gerais | Município de Belo Horizonte (MG) | Região Metropolitana de Belo Horizonte (MG) | 310041210 | 3110111 | 01 | 10 | 5 | ⋯ | 634.2538 |    0.0000 | 685.3165 | 0 | 696.6791 | 0 | 687.2363 | 3100412100110 | 1.092827 | 1.092867 |\n| 2023 | 3 | Minas Gerais | Município de Belo Horizonte (MG) | Região Metropolitana de Belo Horizonte (MG) | 310041210 | 3110111 | 01 | 10 | 5 | ⋯ | 634.2538 |    0.0000 | 685.3165 | 0 | 696.6791 | 0 | 687.2363 | 3100412100110 | 1.092827 | 1.092867 |\n| 2023 | 3 | Minas Gerais | Município de Belo Horizonte (MG) | Região Metropolitana de Belo Horizonte (MG) | 310041210 | 3110111 | 02 | 10 | 5 | ⋯ | 936.5501 |    0.0000 | 943.7046 | 0 | 973.6742 | 0 | 980.2739 | 3100412100210 | 1.092827 | 1.092867 |\n| 2023 | 3 | Minas Gerais | Município de Belo Horizonte (MG) | Região Metropolitana de Belo Horizonte (MG) | 310041210 | 3110111 | 02 | 10 | 5 | ⋯ | 936.5501 |    0.0000 | 943.7046 | 0 | 973.6742 | 0 | 980.2739 | 3100412100210 | 1.092827 | 1.092867 |\n| 2023 | 3 | Minas Gerais | Município de Belo Horizonte (MG) | Região Metropolitana de Belo Horizonte (MG) | 310041210 | 3110111 | 03 | 10 | 5 | ⋯ | 545.7090 |    0.0000 | 546.7870 | 0 | 576.3776 | 0 | 564.9423 | 3100412100310 | 1.092827 | 1.092867 |\n| 2023 | 3 | Minas Gerais | Município de Belo Horizonte (MG) | Região Metropolitana de Belo Horizonte (MG) | 310041210 | 3110111 | 03 | 10 | 5 | ⋯ | 545.7090 |    0.0000 | 546.7870 | 0 | 576.3776 | 0 | 564.9423 | 3100412100310 | 1.092827 | 1.092867 |\n| 2023 | 3 | Minas Gerais | Município de Belo Horizonte (MG) | Região Metropolitana de Belo Horizonte (MG) | 310041210 | 3110111 | 04 | 10 | 5 | ⋯ | 578.6639 |    0.0000 | 537.8354 | 0 | 533.8028 | 0 | 586.3673 | 3100412100410 | 1.092827 | 1.092867 |\n| 2023 | 3 | Minas Gerais | Município de Belo Horizonte (MG) | Região Metropolitana de Belo Horizonte (MG) | 310041210 | 3110111 | 05 | 10 | 5 | ⋯ | 687.6341 |    0.0000 | 675.2866 | 0 | 708.8784 | 0 | 695.8344 | 3100412100510 | 1.092827 | 1.092867 |\n| 2023 | 3 | Minas Gerais | Município de Belo Horizonte (MG) | Região Metropolitana de Belo Horizonte (MG) | 310041210 | 3110111 | 05 | 10 | 5 | ⋯ | 687.6341 |    0.0000 | 675.2866 | 0 | 708.8784 | 0 | 695.8344 | 3100412100510 | 1.092827 | 1.092867 |\n| 2023 | 3 | Minas Gerais | Município de Belo Horizonte (MG) | Região Metropolitana de Belo Horizonte (MG) | 310041210 | 3110111 | 06 | 10 | 5 | ⋯ | 697.8622 |    0.0000 | 706.2825 | 0 | 734.7967 | 0 | 700.5706 | 3100412100610 | 1.092827 | 1.092867 |\n| 2023 | 3 | Minas Gerais | Município de Belo Horizonte (MG) | Região Metropolitana de Belo Horizonte (MG) | 310041210 | 3110111 | 06 | 10 | 5 | ⋯ | 697.8622 |    0.0000 | 706.2825 | 0 | 734.7967 | 0 | 700.5706 | 3100412100610 | 1.092827 | 1.092867 |\n| 2023 | 3 | Minas Gerais | Município de Belo Horizonte (MG) | Região Metropolitana de Belo Horizonte (MG) | 310041210 | 3110111 | 06 | 10 | 5 | ⋯ | 697.8622 |    0.0000 | 706.2825 | 0 | 734.7967 | 0 | 700.5706 | 3100412100610 | 1.092827 | 1.092867 |\n| 2023 | 3 | Minas Gerais | Município de Belo Horizonte (MG) | Região Metropolitana de Belo Horizonte (MG) | 310041210 | 3110111 | 07 | 10 | 5 | ⋯ | 629.6462 |    0.0000 | 636.7414 | 0 | 658.3501 | 0 | 662.8532 | 3100412100710 | 1.092827 | 1.092867 |\n| 2023 | 3 | Minas Gerais | Município de Belo Horizonte (MG) | Região Metropolitana de Belo Horizonte (MG) | 310041210 | 3110111 | 07 | 10 | 5 | ⋯ | 629.6462 |    0.0000 | 636.7414 | 0 | 658.3501 | 0 | 662.8532 | 3100412100710 | 1.092827 | 1.092867 |\n| 2023 | 3 | Minas Gerais | Município de Belo Horizonte (MG) | Região Metropolitana de Belo Horizonte (MG) | 310041210 | 3110111 | 07 | 10 | 5 | ⋯ | 629.6462 |    0.0000 | 636.7414 | 0 | 658.3501 | 0 | 662.8532 | 3100412100710 | 1.092827 | 1.092867 |\n| 2023 | 3 | Minas Gerais | Município de Belo Horizonte (MG) | Região Metropolitana de Belo Horizonte (MG) | 310041210 | 3110111 | 07 | 10 | 5 | ⋯ | 629.6462 |    0.0000 | 636.7414 | 0 | 658.3501 | 0 | 662.8532 | 3100412100710 | 1.092827 | 1.092867 |\n| 2023 | 3 | Minas Gerais | Município de Belo Horizonte (MG) | Região Metropolitana de Belo Horizonte (MG) | 310041210 | 3110111 | 08 | 10 | 5 | ⋯ | 754.7029 |    0.0000 | 772.2411 | 0 | 814.5020 | 0 | 820.8559 | 3100412100810 | 1.092827 | 1.092867 |\n| 2023 | 3 | Minas Gerais | Município de Belo Horizonte (MG) | Região Metropolitana de Belo Horizonte (MG) | 310041210 | 3110111 | 08 | 10 | 5 | ⋯ | 754.7029 |    0.0000 | 772.2411 | 0 | 814.5020 | 0 | 820.8559 | 3100412100810 | 1.092827 | 1.092867 |\n| 2023 | 3 | Minas Gerais | Município de Belo Horizonte (MG) | Região Metropolitana de Belo Horizonte (MG) | 310041210 | 3110111 | 08 | 10 | 5 | ⋯ | 754.7029 |    0.0000 | 772.2411 | 0 | 814.5020 | 0 | 820.8559 | 3100412100810 | 1.092827 | 1.092867 |\n| 2023 | 3 | Minas Gerais | Município de Belo Horizonte (MG) | Região Metropolitana de Belo Horizonte (MG) | 310041210 | 3110111 | 09 | 10 | 5 | ⋯ | 650.9106 |    0.0000 | 664.8596 | 0 | 688.2834 | 0 | 678.7152 | 3100412100910 | 1.092827 | 1.092867 |\n| 2023 | 3 | Minas Gerais | Município de Belo Horizonte (MG) | Região Metropolitana de Belo Horizonte (MG) | 310041210 | 3110111 | 09 | 10 | 5 | ⋯ | 650.9106 |    0.0000 | 664.8596 | 0 | 688.2834 | 0 | 678.7152 | 3100412100910 | 1.092827 | 1.092867 |\n| 2023 | 3 | Minas Gerais | Município de Belo Horizonte (MG) | Região Metropolitana de Belo Horizonte (MG) | 310041210 | 3110111 | 10 | 10 | 5 | ⋯ | 739.3023 |    0.0000 | 755.1608 | 0 | 769.1176 | 0 | 734.6896 | 3100412101010 | 1.092827 | 1.092867 |\n| 2023 | 3 | Minas Gerais | Município de Belo Horizonte (MG) | Região Metropolitana de Belo Horizonte (MG) | 310041210 | 3110111 | 10 | 10 | 5 | ⋯ | 739.3023 |    0.0000 | 755.1608 | 0 | 769.1176 | 0 | 734.6896 | 3100412101010 | 1.092827 | 1.092867 |\n| 2023 | 3 | Minas Gerais | Município de Belo Horizonte (MG) | Região Metropolitana de Belo Horizonte (MG) | 310041210 | 3110111 | 12 | 10 | 5 | ⋯ | 804.2259 |    0.0000 | 829.1203 | 0 | 867.8245 | 0 | 825.4697 | 3100412101210 | 1.092827 | 1.092867 |\n| 2023 | 3 | Minas Gerais | Município de Belo Horizonte (MG) | Região Metropolitana de Belo Horizonte (MG) | 310041210 | 3110111 | 13 | 10 | 5 | ⋯ | 738.3979 |    0.0000 | 732.9201 | 0 | 772.5944 | 0 | 770.2508 | 3100412101310 | 1.092827 | 1.092867 |\n| 2023 | 3 | Minas Gerais | Município de Belo Horizonte (MG) | Região Metropolitana de Belo Horizonte (MG) | 310050752 | 3110111 | 01 | 10 | 5 | ⋯ |   0.0000 |  929.7665 |   0.0000 | 0 |   0.0000 | 0 |   0.0000 | 3100507520110 | 1.092827 | 1.092867 |\n| 2023 | 3 | Minas Gerais | Município de Belo Horizonte (MG) | Região Metropolitana de Belo Horizonte (MG) | 310050752 | 3110111 | 01 | 10 | 5 | ⋯ |   0.0000 |  929.7665 |   0.0000 | 0 |   0.0000 | 0 |   0.0000 | 3100507520110 | 1.092827 | 1.092867 |\n| 2023 | 3 | Minas Gerais | Município de Belo Horizonte (MG) | Região Metropolitana de Belo Horizonte (MG) | 310050752 | 3110111 | 02 | 10 | 5 | ⋯ |   0.0000 | 1334.1685 |   0.0000 | 0 |   0.0000 | 0 |   0.0000 | 3100507520210 | 1.092827 | 1.092867 |\n| 2023 | 3 | Minas Gerais | Município de Belo Horizonte (MG) | Região Metropolitana de Belo Horizonte (MG) | 310050752 | 3110111 | 02 | 10 | 5 | ⋯ |   0.0000 | 1334.1685 |   0.0000 | 0 |   0.0000 | 0 |   0.0000 | 3100507520210 | 1.092827 | 1.092867 |\n| 2023 | 3 | Minas Gerais | Município de Belo Horizonte (MG) | Região Metropolitana de Belo Horizonte (MG) | 310050752 | 3110111 | 02 | 10 | 5 | ⋯ |   0.0000 | 1334.1685 |   0.0000 | 0 |   0.0000 | 0 |   0.0000 | 3100507520210 | 1.092827 | 1.092867 |\n| ⋮ | ⋮ | ⋮ | ⋮ | ⋮ | ⋮ | ⋮ | ⋮ | ⋮ | ⋮ | ⋱ | ⋮ | ⋮ | ⋮ | ⋮ | ⋮ | ⋮ | ⋮ | ⋮ | ⋮ | ⋮ |\n| 2023 | 3 | Minas Gerais | NA | NA | 310567185 | 3156022 | 14 | 11 | 2 | ⋯ | 190.51293 | 179.4435 | 189.82857 | 364.5182 | 377.2666 | 184.5506 |   0.00000 | 3105671851411 | 1.092827 | 1.092867 |\n| 2023 | 3 | Minas Gerais | NA | NA | 310567185 | 3156022 | 14 | 11 | 2 | ⋯ | 190.51293 | 179.4435 | 189.82857 | 364.5182 | 377.2666 | 184.5506 |   0.00000 | 3105671851411 | 1.092827 | 1.092867 |\n| 2023 | 3 | Minas Gerais | NA | NA | 310567185 | 3156022 | 14 | 11 | 2 | ⋯ | 190.51293 | 179.4435 | 189.82857 | 364.5182 | 377.2666 | 184.5506 |   0.00000 | 3105671851411 | 1.092827 | 1.092867 |\n| 2023 | 3 | Minas Gerais | NA | NA | 310577244 | 3156022 | 02 | 11 | 2 | ⋯ |  68.74621 | 136.0315 |  67.75083 |   0.0000 |   0.0000 |   0.0000 |  68.02943 | 3105772440211 | 1.092827 | 1.092867 |\n| 2023 | 3 | Minas Gerais | NA | NA | 310577244 | 3156022 | 02 | 11 | 2 | ⋯ |  68.74621 | 136.0315 |  67.75083 |   0.0000 |   0.0000 |   0.0000 |  68.02943 | 3105772440211 | 1.092827 | 1.092867 |\n| 2023 | 3 | Minas Gerais | NA | NA | 310577244 | 3156022 | 03 | 11 | 2 | ⋯ | 119.04690 | 227.2428 | 119.45433 |   0.0000 |   0.0000 |   0.0000 | 119.91924 | 3105772440311 | 1.092827 | 1.092867 |\n| 2023 | 3 | Minas Gerais | NA | NA | 310577244 | 3156022 | 03 | 11 | 2 | ⋯ | 119.04690 | 227.2428 | 119.45433 |   0.0000 |   0.0000 |   0.0000 | 119.91924 | 3105772440311 | 1.092827 | 1.092867 |\n| 2023 | 3 | Minas Gerais | NA | NA | 310577244 | 3156022 | 04 | 11 | 2 | ⋯ |  81.61741 | 160.3709 |  79.10998 |   0.0000 |   0.0000 |   0.0000 |  81.09544 | 3105772440411 | 1.092827 | 1.092867 |\n| 2023 | 3 | Minas Gerais | NA | NA | 310577244 | 3156022 | 04 | 11 | 2 | ⋯ |  81.61741 | 160.3709 |  79.10998 |   0.0000 |   0.0000 |   0.0000 |  81.09544 | 3105772440411 | 1.092827 | 1.092867 |\n| 2023 | 3 | Minas Gerais | NA | NA | 310577244 | 3156022 | 04 | 11 | 2 | ⋯ |  81.61741 | 160.3709 |  79.10998 |   0.0000 |   0.0000 |   0.0000 |  81.09544 | 3105772440411 | 1.092827 | 1.092867 |\n| 2023 | 3 | Minas Gerais | NA | NA | 310577244 | 3156022 | 06 | 11 | 2 | ⋯ | 132.60534 | 279.3051 | 137.03784 |   0.0000 |   0.0000 |   0.0000 | 143.10393 | 3105772440611 | 1.092827 | 1.092867 |\n| 2023 | 3 | Minas Gerais | NA | NA | 310577244 | 3156022 | 08 | 11 | 2 | ⋯ |  91.33515 | 174.4530 |  92.71532 |   0.0000 |   0.0000 |   0.0000 |  93.13657 | 3105772440811 | 1.092827 | 1.092867 |\n| 2023 | 3 | Minas Gerais | NA | NA | 310577244 | 3156022 | 08 | 11 | 2 | ⋯ |  91.33515 | 174.4530 |  92.71532 |   0.0000 |   0.0000 |   0.0000 |  93.13657 | 3105772440811 | 1.092827 | 1.092867 |\n| 2023 | 3 | Minas Gerais | NA | NA | 310577244 | 3156022 | 08 | 11 | 2 | ⋯ |  91.33515 | 174.4530 |  92.71532 |   0.0000 |   0.0000 |   0.0000 |  93.13657 | 3105772440811 | 1.092827 | 1.092867 |\n| 2023 | 3 | Minas Gerais | NA | NA | 310577244 | 3156022 | 08 | 11 | 2 | ⋯ |  91.33515 | 174.4530 |  92.71532 |   0.0000 |   0.0000 |   0.0000 |  93.13657 | 3105772440811 | 1.092827 | 1.092867 |\n| 2023 | 3 | Minas Gerais | NA | NA | 310577244 | 3156022 | 09 | 11 | 2 | ⋯ |  69.73720 | 130.8807 |  69.11707 |   0.0000 |   0.0000 |   0.0000 |  71.20204 | 3105772440911 | 1.092827 | 1.092867 |\n| 2023 | 3 | Minas Gerais | NA | NA | 310577244 | 3156022 | 09 | 11 | 2 | ⋯ |  69.73720 | 130.8807 |  69.11707 |   0.0000 |   0.0000 |   0.0000 |  71.20204 | 3105772440911 | 1.092827 | 1.092867 |\n| 2023 | 3 | Minas Gerais | NA | NA | 310577244 | 3156022 | 10 | 11 | 2 | ⋯ | 123.17578 | 231.7939 | 119.35857 |   0.0000 |   0.0000 |   0.0000 | 119.16405 | 3105772441011 | 1.092827 | 1.092867 |\n| 2023 | 3 | Minas Gerais | NA | NA | 310577244 | 3156022 | 10 | 11 | 2 | ⋯ | 123.17578 | 231.7939 | 119.35857 |   0.0000 |   0.0000 |   0.0000 | 119.16405 | 3105772441011 | 1.092827 | 1.092867 |\n| 2023 | 3 | Minas Gerais | NA | NA | 310577244 | 3156022 | 11 | 11 | 2 | ⋯ |  82.10909 | 158.6869 |  80.09221 |   0.0000 |   0.0000 |   0.0000 |  80.71833 | 3105772441111 | 1.092827 | 1.092867 |\n| 2023 | 3 | Minas Gerais | NA | NA | 310577244 | 3156022 | 11 | 11 | 2 | ⋯ |  82.10909 | 158.6869 |  80.09221 |   0.0000 |   0.0000 |   0.0000 |  80.71833 | 3105772441111 | 1.092827 | 1.092867 |\n| 2023 | 3 | Minas Gerais | NA | NA | 310577244 | 3156022 | 11 | 11 | 2 | ⋯ |  82.10909 | 158.6869 |  80.09221 |   0.0000 |   0.0000 |   0.0000 |  80.71833 | 3105772441111 | 1.092827 | 1.092867 |\n| 2023 | 3 | Minas Gerais | NA | NA | 310577244 | 3156022 | 11 | 11 | 2 | ⋯ |  82.10909 | 158.6869 |  80.09221 |   0.0000 |   0.0000 |   0.0000 |  80.71833 | 3105772441111 | 1.092827 | 1.092867 |\n| 2023 | 3 | Minas Gerais | NA | NA | 310577244 | 3156022 | 11 | 11 | 2 | ⋯ |  82.10909 | 158.6869 |  80.09221 |   0.0000 |   0.0000 |   0.0000 |  80.71833 | 3105772441111 | 1.092827 | 1.092867 |\n| 2023 | 3 | Minas Gerais | NA | NA | 310577244 | 3156022 | 11 | 11 | 2 | ⋯ |  82.10909 | 158.6869 |  80.09221 |   0.0000 |   0.0000 |   0.0000 |  80.71833 | 3105772441111 | 1.092827 | 1.092867 |\n| 2023 | 3 | Minas Gerais | NA | NA | 310577244 | 3156022 | 12 | 11 | 2 | ⋯ |  78.60127 | 151.9700 |  77.21931 |   0.0000 |   0.0000 |   0.0000 |  77.57544 | 3105772441211 | 1.092827 | 1.092867 |\n| 2023 | 3 | Minas Gerais | NA | NA | 310577244 | 3156022 | 12 | 11 | 2 | ⋯ |  78.60127 | 151.9700 |  77.21931 |   0.0000 |   0.0000 |   0.0000 |  77.57544 | 3105772441211 | 1.092827 | 1.092867 |\n| 2023 | 3 | Minas Gerais | NA | NA | 310577244 | 3156022 | 14 | 11 | 2 | ⋯ |  74.51449 | 141.2972 |  74.28256 |   0.0000 |   0.0000 |   0.0000 |  75.08425 | 3105772441411 | 1.092827 | 1.092867 |\n| 2023 | 3 | Minas Gerais | NA | NA | 310577244 | 3156022 | 14 | 11 | 2 | ⋯ |  74.51449 | 141.2972 |  74.28256 |   0.0000 |   0.0000 |   0.0000 |  75.08425 | 3105772441411 | 1.092827 | 1.092867 |\n| 2023 | 3 | Minas Gerais | NA | NA | 310577244 | 3156022 | 14 | 11 | 2 | ⋯ |  74.51449 | 141.2972 |  74.28256 |   0.0000 |   0.0000 |   0.0000 |  75.08425 | 3105772441411 | 1.092827 | 1.092867 |\n\n",
            "text/plain": [
              "      Ano  Trimestre UF           Capital                         \n",
              "1     2023 3         Minas Gerais Município de Belo Horizonte (MG)\n",
              "2     2023 3         Minas Gerais Município de Belo Horizonte (MG)\n",
              "3     2023 3         Minas Gerais Município de Belo Horizonte (MG)\n",
              "4     2023 3         Minas Gerais Município de Belo Horizonte (MG)\n",
              "5     2023 3         Minas Gerais Município de Belo Horizonte (MG)\n",
              "6     2023 3         Minas Gerais Município de Belo Horizonte (MG)\n",
              "7     2023 3         Minas Gerais Município de Belo Horizonte (MG)\n",
              "8     2023 3         Minas Gerais Município de Belo Horizonte (MG)\n",
              "9     2023 3         Minas Gerais Município de Belo Horizonte (MG)\n",
              "10    2023 3         Minas Gerais Município de Belo Horizonte (MG)\n",
              "11    2023 3         Minas Gerais Município de Belo Horizonte (MG)\n",
              "12    2023 3         Minas Gerais Município de Belo Horizonte (MG)\n",
              "13    2023 3         Minas Gerais Município de Belo Horizonte (MG)\n",
              "14    2023 3         Minas Gerais Município de Belo Horizonte (MG)\n",
              "15    2023 3         Minas Gerais Município de Belo Horizonte (MG)\n",
              "16    2023 3         Minas Gerais Município de Belo Horizonte (MG)\n",
              "17    2023 3         Minas Gerais Município de Belo Horizonte (MG)\n",
              "18    2023 3         Minas Gerais Município de Belo Horizonte (MG)\n",
              "19    2023 3         Minas Gerais Município de Belo Horizonte (MG)\n",
              "20    2023 3         Minas Gerais Município de Belo Horizonte (MG)\n",
              "21    2023 3         Minas Gerais Município de Belo Horizonte (MG)\n",
              "22    2023 3         Minas Gerais Município de Belo Horizonte (MG)\n",
              "23    2023 3         Minas Gerais Município de Belo Horizonte (MG)\n",
              "24    2023 3         Minas Gerais Município de Belo Horizonte (MG)\n",
              "25    2023 3         Minas Gerais Município de Belo Horizonte (MG)\n",
              "26    2023 3         Minas Gerais Município de Belo Horizonte (MG)\n",
              "27    2023 3         Minas Gerais Município de Belo Horizonte (MG)\n",
              "28    2023 3         Minas Gerais Município de Belo Horizonte (MG)\n",
              "29    2023 3         Minas Gerais Município de Belo Horizonte (MG)\n",
              "30    2023 3         Minas Gerais Município de Belo Horizonte (MG)\n",
              "⋮     ⋮    ⋮         ⋮            ⋮                               \n",
              "35444 2023 3         Minas Gerais NA                              \n",
              "35445 2023 3         Minas Gerais NA                              \n",
              "35446 2023 3         Minas Gerais NA                              \n",
              "35447 2023 3         Minas Gerais NA                              \n",
              "35448 2023 3         Minas Gerais NA                              \n",
              "35449 2023 3         Minas Gerais NA                              \n",
              "35450 2023 3         Minas Gerais NA                              \n",
              "35451 2023 3         Minas Gerais NA                              \n",
              "35452 2023 3         Minas Gerais NA                              \n",
              "35453 2023 3         Minas Gerais NA                              \n",
              "35454 2023 3         Minas Gerais NA                              \n",
              "35455 2023 3         Minas Gerais NA                              \n",
              "35456 2023 3         Minas Gerais NA                              \n",
              "35457 2023 3         Minas Gerais NA                              \n",
              "35458 2023 3         Minas Gerais NA                              \n",
              "35459 2023 3         Minas Gerais NA                              \n",
              "35460 2023 3         Minas Gerais NA                              \n",
              "35461 2023 3         Minas Gerais NA                              \n",
              "35462 2023 3         Minas Gerais NA                              \n",
              "35463 2023 3         Minas Gerais NA                              \n",
              "35464 2023 3         Minas Gerais NA                              \n",
              "35465 2023 3         Minas Gerais NA                              \n",
              "35466 2023 3         Minas Gerais NA                              \n",
              "35467 2023 3         Minas Gerais NA                              \n",
              "35468 2023 3         Minas Gerais NA                              \n",
              "35469 2023 3         Minas Gerais NA                              \n",
              "35470 2023 3         Minas Gerais NA                              \n",
              "35471 2023 3         Minas Gerais NA                              \n",
              "35472 2023 3         Minas Gerais NA                              \n",
              "35473 2023 3         Minas Gerais NA                              \n",
              "      RM_RIDE                                     UPA       Estrato V1008 V1014\n",
              "1     Região Metropolitana de Belo Horizonte (MG) 310041210 3110111 01    10   \n",
              "2     Região Metropolitana de Belo Horizonte (MG) 310041210 3110111 01    10   \n",
              "3     Região Metropolitana de Belo Horizonte (MG) 310041210 3110111 02    10   \n",
              "4     Região Metropolitana de Belo Horizonte (MG) 310041210 3110111 02    10   \n",
              "5     Região Metropolitana de Belo Horizonte (MG) 310041210 3110111 03    10   \n",
              "6     Região Metropolitana de Belo Horizonte (MG) 310041210 3110111 03    10   \n",
              "7     Região Metropolitana de Belo Horizonte (MG) 310041210 3110111 04    10   \n",
              "8     Região Metropolitana de Belo Horizonte (MG) 310041210 3110111 05    10   \n",
              "9     Região Metropolitana de Belo Horizonte (MG) 310041210 3110111 05    10   \n",
              "10    Região Metropolitana de Belo Horizonte (MG) 310041210 3110111 06    10   \n",
              "11    Região Metropolitana de Belo Horizonte (MG) 310041210 3110111 06    10   \n",
              "12    Região Metropolitana de Belo Horizonte (MG) 310041210 3110111 06    10   \n",
              "13    Região Metropolitana de Belo Horizonte (MG) 310041210 3110111 07    10   \n",
              "14    Região Metropolitana de Belo Horizonte (MG) 310041210 3110111 07    10   \n",
              "15    Região Metropolitana de Belo Horizonte (MG) 310041210 3110111 07    10   \n",
              "16    Região Metropolitana de Belo Horizonte (MG) 310041210 3110111 07    10   \n",
              "17    Região Metropolitana de Belo Horizonte (MG) 310041210 3110111 08    10   \n",
              "18    Região Metropolitana de Belo Horizonte (MG) 310041210 3110111 08    10   \n",
              "19    Região Metropolitana de Belo Horizonte (MG) 310041210 3110111 08    10   \n",
              "20    Região Metropolitana de Belo Horizonte (MG) 310041210 3110111 09    10   \n",
              "21    Região Metropolitana de Belo Horizonte (MG) 310041210 3110111 09    10   \n",
              "22    Região Metropolitana de Belo Horizonte (MG) 310041210 3110111 10    10   \n",
              "23    Região Metropolitana de Belo Horizonte (MG) 310041210 3110111 10    10   \n",
              "24    Região Metropolitana de Belo Horizonte (MG) 310041210 3110111 12    10   \n",
              "25    Região Metropolitana de Belo Horizonte (MG) 310041210 3110111 13    10   \n",
              "26    Região Metropolitana de Belo Horizonte (MG) 310050752 3110111 01    10   \n",
              "27    Região Metropolitana de Belo Horizonte (MG) 310050752 3110111 01    10   \n",
              "28    Região Metropolitana de Belo Horizonte (MG) 310050752 3110111 02    10   \n",
              "29    Região Metropolitana de Belo Horizonte (MG) 310050752 3110111 02    10   \n",
              "30    Região Metropolitana de Belo Horizonte (MG) 310050752 3110111 02    10   \n",
              "⋮     ⋮                                           ⋮         ⋮       ⋮     ⋮    \n",
              "35444 NA                                          310567185 3156022 14    11   \n",
              "35445 NA                                          310567185 3156022 14    11   \n",
              "35446 NA                                          310567185 3156022 14    11   \n",
              "35447 NA                                          310577244 3156022 02    11   \n",
              "35448 NA                                          310577244 3156022 02    11   \n",
              "35449 NA                                          310577244 3156022 03    11   \n",
              "35450 NA                                          310577244 3156022 03    11   \n",
              "35451 NA                                          310577244 3156022 04    11   \n",
              "35452 NA                                          310577244 3156022 04    11   \n",
              "35453 NA                                          310577244 3156022 04    11   \n",
              "35454 NA                                          310577244 3156022 06    11   \n",
              "35455 NA                                          310577244 3156022 08    11   \n",
              "35456 NA                                          310577244 3156022 08    11   \n",
              "35457 NA                                          310577244 3156022 08    11   \n",
              "35458 NA                                          310577244 3156022 08    11   \n",
              "35459 NA                                          310577244 3156022 09    11   \n",
              "35460 NA                                          310577244 3156022 09    11   \n",
              "35461 NA                                          310577244 3156022 10    11   \n",
              "35462 NA                                          310577244 3156022 10    11   \n",
              "35463 NA                                          310577244 3156022 11    11   \n",
              "35464 NA                                          310577244 3156022 11    11   \n",
              "35465 NA                                          310577244 3156022 11    11   \n",
              "35466 NA                                          310577244 3156022 11    11   \n",
              "35467 NA                                          310577244 3156022 11    11   \n",
              "35468 NA                                          310577244 3156022 11    11   \n",
              "35469 NA                                          310577244 3156022 12    11   \n",
              "35470 NA                                          310577244 3156022 12    11   \n",
              "35471 NA                                          310577244 3156022 14    11   \n",
              "35472 NA                                          310577244 3156022 14    11   \n",
              "35473 NA                                          310577244 3156022 14    11   \n",
              "      V1016 ⋯ V1028194  V1028195  V1028196  V1028197 V1028198 V1028199\n",
              "1     5     ⋯ 634.2538     0.0000 685.3165  0        696.6791 0       \n",
              "2     5     ⋯ 634.2538     0.0000 685.3165  0        696.6791 0       \n",
              "3     5     ⋯ 936.5501     0.0000 943.7046  0        973.6742 0       \n",
              "4     5     ⋯ 936.5501     0.0000 943.7046  0        973.6742 0       \n",
              "5     5     ⋯ 545.7090     0.0000 546.7870  0        576.3776 0       \n",
              "6     5     ⋯ 545.7090     0.0000 546.7870  0        576.3776 0       \n",
              "7     5     ⋯ 578.6639     0.0000 537.8354  0        533.8028 0       \n",
              "8     5     ⋯ 687.6341     0.0000 675.2866  0        708.8784 0       \n",
              "9     5     ⋯ 687.6341     0.0000 675.2866  0        708.8784 0       \n",
              "10    5     ⋯ 697.8622     0.0000 706.2825  0        734.7967 0       \n",
              "11    5     ⋯ 697.8622     0.0000 706.2825  0        734.7967 0       \n",
              "12    5     ⋯ 697.8622     0.0000 706.2825  0        734.7967 0       \n",
              "13    5     ⋯ 629.6462     0.0000 636.7414  0        658.3501 0       \n",
              "14    5     ⋯ 629.6462     0.0000 636.7414  0        658.3501 0       \n",
              "15    5     ⋯ 629.6462     0.0000 636.7414  0        658.3501 0       \n",
              "16    5     ⋯ 629.6462     0.0000 636.7414  0        658.3501 0       \n",
              "17    5     ⋯ 754.7029     0.0000 772.2411  0        814.5020 0       \n",
              "18    5     ⋯ 754.7029     0.0000 772.2411  0        814.5020 0       \n",
              "19    5     ⋯ 754.7029     0.0000 772.2411  0        814.5020 0       \n",
              "20    5     ⋯ 650.9106     0.0000 664.8596  0        688.2834 0       \n",
              "21    5     ⋯ 650.9106     0.0000 664.8596  0        688.2834 0       \n",
              "22    5     ⋯ 739.3023     0.0000 755.1608  0        769.1176 0       \n",
              "23    5     ⋯ 739.3023     0.0000 755.1608  0        769.1176 0       \n",
              "24    5     ⋯ 804.2259     0.0000 829.1203  0        867.8245 0       \n",
              "25    5     ⋯ 738.3979     0.0000 732.9201  0        772.5944 0       \n",
              "26    5     ⋯   0.0000   929.7665   0.0000  0          0.0000 0       \n",
              "27    5     ⋯   0.0000   929.7665   0.0000  0          0.0000 0       \n",
              "28    5     ⋯   0.0000  1334.1685   0.0000  0          0.0000 0       \n",
              "29    5     ⋯   0.0000  1334.1685   0.0000  0          0.0000 0       \n",
              "30    5     ⋯   0.0000  1334.1685   0.0000  0          0.0000 0       \n",
              "⋮     ⋮     ⋱ ⋮         ⋮         ⋮         ⋮        ⋮        ⋮       \n",
              "35444 2     ⋯ 190.51293 179.4435  189.82857 364.5182 377.2666 184.5506\n",
              "35445 2     ⋯ 190.51293 179.4435  189.82857 364.5182 377.2666 184.5506\n",
              "35446 2     ⋯ 190.51293 179.4435  189.82857 364.5182 377.2666 184.5506\n",
              "35447 2     ⋯  68.74621 136.0315   67.75083   0.0000   0.0000   0.0000\n",
              "35448 2     ⋯  68.74621 136.0315   67.75083   0.0000   0.0000   0.0000\n",
              "35449 2     ⋯ 119.04690 227.2428  119.45433   0.0000   0.0000   0.0000\n",
              "35450 2     ⋯ 119.04690 227.2428  119.45433   0.0000   0.0000   0.0000\n",
              "35451 2     ⋯  81.61741 160.3709   79.10998   0.0000   0.0000   0.0000\n",
              "35452 2     ⋯  81.61741 160.3709   79.10998   0.0000   0.0000   0.0000\n",
              "35453 2     ⋯  81.61741 160.3709   79.10998   0.0000   0.0000   0.0000\n",
              "35454 2     ⋯ 132.60534 279.3051  137.03784   0.0000   0.0000   0.0000\n",
              "35455 2     ⋯  91.33515 174.4530   92.71532   0.0000   0.0000   0.0000\n",
              "35456 2     ⋯  91.33515 174.4530   92.71532   0.0000   0.0000   0.0000\n",
              "35457 2     ⋯  91.33515 174.4530   92.71532   0.0000   0.0000   0.0000\n",
              "35458 2     ⋯  91.33515 174.4530   92.71532   0.0000   0.0000   0.0000\n",
              "35459 2     ⋯  69.73720 130.8807   69.11707   0.0000   0.0000   0.0000\n",
              "35460 2     ⋯  69.73720 130.8807   69.11707   0.0000   0.0000   0.0000\n",
              "35461 2     ⋯ 123.17578 231.7939  119.35857   0.0000   0.0000   0.0000\n",
              "35462 2     ⋯ 123.17578 231.7939  119.35857   0.0000   0.0000   0.0000\n",
              "35463 2     ⋯  82.10909 158.6869   80.09221   0.0000   0.0000   0.0000\n",
              "35464 2     ⋯  82.10909 158.6869   80.09221   0.0000   0.0000   0.0000\n",
              "35465 2     ⋯  82.10909 158.6869   80.09221   0.0000   0.0000   0.0000\n",
              "35466 2     ⋯  82.10909 158.6869   80.09221   0.0000   0.0000   0.0000\n",
              "35467 2     ⋯  82.10909 158.6869   80.09221   0.0000   0.0000   0.0000\n",
              "35468 2     ⋯  82.10909 158.6869   80.09221   0.0000   0.0000   0.0000\n",
              "35469 2     ⋯  78.60127 151.9700   77.21931   0.0000   0.0000   0.0000\n",
              "35470 2     ⋯  78.60127 151.9700   77.21931   0.0000   0.0000   0.0000\n",
              "35471 2     ⋯  74.51449 141.2972   74.28256   0.0000   0.0000   0.0000\n",
              "35472 2     ⋯  74.51449 141.2972   74.28256   0.0000   0.0000   0.0000\n",
              "35473 2     ⋯  74.51449 141.2972   74.28256   0.0000   0.0000   0.0000\n",
              "      V1028200  ID_DOMICILIO  Habitual Efetivo \n",
              "1     687.2363  3100412100110 1.092827 1.092867\n",
              "2     687.2363  3100412100110 1.092827 1.092867\n",
              "3     980.2739  3100412100210 1.092827 1.092867\n",
              "4     980.2739  3100412100210 1.092827 1.092867\n",
              "5     564.9423  3100412100310 1.092827 1.092867\n",
              "6     564.9423  3100412100310 1.092827 1.092867\n",
              "7     586.3673  3100412100410 1.092827 1.092867\n",
              "8     695.8344  3100412100510 1.092827 1.092867\n",
              "9     695.8344  3100412100510 1.092827 1.092867\n",
              "10    700.5706  3100412100610 1.092827 1.092867\n",
              "11    700.5706  3100412100610 1.092827 1.092867\n",
              "12    700.5706  3100412100610 1.092827 1.092867\n",
              "13    662.8532  3100412100710 1.092827 1.092867\n",
              "14    662.8532  3100412100710 1.092827 1.092867\n",
              "15    662.8532  3100412100710 1.092827 1.092867\n",
              "16    662.8532  3100412100710 1.092827 1.092867\n",
              "17    820.8559  3100412100810 1.092827 1.092867\n",
              "18    820.8559  3100412100810 1.092827 1.092867\n",
              "19    820.8559  3100412100810 1.092827 1.092867\n",
              "20    678.7152  3100412100910 1.092827 1.092867\n",
              "21    678.7152  3100412100910 1.092827 1.092867\n",
              "22    734.6896  3100412101010 1.092827 1.092867\n",
              "23    734.6896  3100412101010 1.092827 1.092867\n",
              "24    825.4697  3100412101210 1.092827 1.092867\n",
              "25    770.2508  3100412101310 1.092827 1.092867\n",
              "26      0.0000  3100507520110 1.092827 1.092867\n",
              "27      0.0000  3100507520110 1.092827 1.092867\n",
              "28      0.0000  3100507520210 1.092827 1.092867\n",
              "29      0.0000  3100507520210 1.092827 1.092867\n",
              "30      0.0000  3100507520210 1.092827 1.092867\n",
              "⋮     ⋮         ⋮             ⋮        ⋮       \n",
              "35444   0.00000 3105671851411 1.092827 1.092867\n",
              "35445   0.00000 3105671851411 1.092827 1.092867\n",
              "35446   0.00000 3105671851411 1.092827 1.092867\n",
              "35447  68.02943 3105772440211 1.092827 1.092867\n",
              "35448  68.02943 3105772440211 1.092827 1.092867\n",
              "35449 119.91924 3105772440311 1.092827 1.092867\n",
              "35450 119.91924 3105772440311 1.092827 1.092867\n",
              "35451  81.09544 3105772440411 1.092827 1.092867\n",
              "35452  81.09544 3105772440411 1.092827 1.092867\n",
              "35453  81.09544 3105772440411 1.092827 1.092867\n",
              "35454 143.10393 3105772440611 1.092827 1.092867\n",
              "35455  93.13657 3105772440811 1.092827 1.092867\n",
              "35456  93.13657 3105772440811 1.092827 1.092867\n",
              "35457  93.13657 3105772440811 1.092827 1.092867\n",
              "35458  93.13657 3105772440811 1.092827 1.092867\n",
              "35459  71.20204 3105772440911 1.092827 1.092867\n",
              "35460  71.20204 3105772440911 1.092827 1.092867\n",
              "35461 119.16405 3105772441011 1.092827 1.092867\n",
              "35462 119.16405 3105772441011 1.092827 1.092867\n",
              "35463  80.71833 3105772441111 1.092827 1.092867\n",
              "35464  80.71833 3105772441111 1.092827 1.092867\n",
              "35465  80.71833 3105772441111 1.092827 1.092867\n",
              "35466  80.71833 3105772441111 1.092827 1.092867\n",
              "35467  80.71833 3105772441111 1.092827 1.092867\n",
              "35468  80.71833 3105772441111 1.092827 1.092867\n",
              "35469  77.57544 3105772441211 1.092827 1.092867\n",
              "35470  77.57544 3105772441211 1.092827 1.092867\n",
              "35471  75.08425 3105772441411 1.092827 1.092867\n",
              "35472  75.08425 3105772441411 1.092827 1.092867\n",
              "35473  75.08425 3105772441411 1.092827 1.092867"
            ]
          },
          "metadata": {},
          "output_type": "display_data"
        }
      ],
      "source": [
        "dados_2023_3 %>%\n",
        "  filter(UF == \"Minas Gerais\")"
      ]
    },
    {
      "cell_type": "code",
      "execution_count": null,
      "metadata": {
        "id": "4M03gPiPVbw0"
      },
      "outputs": [],
      "source": [
        "dados_2023_4 <- get_pnadc(year=2023, quarter=4, design=FALSE, labels=TRUE)"
      ]
    },
    {
      "cell_type": "code",
      "execution_count": null,
      "metadata": {
        "colab": {
          "base_uri": "https://localhost:8080/",
          "height": 390
        },
        "id": "fhGneipueD3d",
        "outputId": "44b232f0-05de-472b-c1f4-e69a51635f1e"
      },
      "outputs": [
        {
          "data": {
            "text/html": [
              "<table class=\"dataframe\">\n",
              "<caption>A tibble: 6 × 423</caption>\n",
              "<thead>\n",
              "\t<tr><th scope=col>Ano</th><th scope=col>Trimestre</th><th scope=col>UF</th><th scope=col>Capital</th><th scope=col>RM_RIDE</th><th scope=col>UPA</th><th scope=col>Estrato</th><th scope=col>V1008</th><th scope=col>V1014</th><th scope=col>V1016</th><th scope=col>⋯</th><th scope=col>V1028194</th><th scope=col>V1028195</th><th scope=col>V1028196</th><th scope=col>V1028197</th><th scope=col>V1028198</th><th scope=col>V1028199</th><th scope=col>V1028200</th><th scope=col>ID_DOMICILIO</th><th scope=col>Habitual</th><th scope=col>Efetivo</th></tr>\n",
              "\t<tr><th scope=col>&lt;chr&gt;</th><th scope=col>&lt;chr&gt;</th><th scope=col>&lt;fct&gt;</th><th scope=col>&lt;fct&gt;</th><th scope=col>&lt;fct&gt;</th><th scope=col>&lt;chr&gt;</th><th scope=col>&lt;chr&gt;</th><th scope=col>&lt;chr&gt;</th><th scope=col>&lt;chr&gt;</th><th scope=col>&lt;chr&gt;</th><th scope=col>⋯</th><th scope=col>&lt;dbl&gt;</th><th scope=col>&lt;dbl&gt;</th><th scope=col>&lt;dbl&gt;</th><th scope=col>&lt;dbl&gt;</th><th scope=col>&lt;dbl&gt;</th><th scope=col>&lt;dbl&gt;</th><th scope=col>&lt;dbl&gt;</th><th scope=col>&lt;chr&gt;</th><th scope=col>&lt;dbl&gt;</th><th scope=col>&lt;dbl&gt;</th></tr>\n",
              "</thead>\n",
              "<tbody>\n",
              "\t<tr><td>2023</td><td>4</td><td>Rondônia</td><td>Município de Porto Velho (RO)</td><td>NA</td><td>110000016</td><td>1110011</td><td>01</td><td>10</td><td>5</td><td>⋯</td><td>0</td><td>0</td><td>0</td><td>674.4751</td><td>358.9703</td><td>292.6587</td><td>690.8893</td><td>1100000160110</td><td>1.066214</td><td>1.069236</td></tr>\n",
              "\t<tr><td>2023</td><td>4</td><td>Rondônia</td><td>Município de Porto Velho (RO)</td><td>NA</td><td>110000016</td><td>1110011</td><td>01</td><td>10</td><td>5</td><td>⋯</td><td>0</td><td>0</td><td>0</td><td>674.4751</td><td>358.9703</td><td>292.6587</td><td>690.8893</td><td>1100000160110</td><td>1.066214</td><td>1.069236</td></tr>\n",
              "\t<tr><td>2023</td><td>4</td><td>Rondônia</td><td>Município de Porto Velho (RO)</td><td>NA</td><td>110000016</td><td>1110011</td><td>02</td><td>10</td><td>5</td><td>⋯</td><td>0</td><td>0</td><td>0</td><td>378.2262</td><td>197.1772</td><td>158.5968</td><td>357.2602</td><td>1100000160210</td><td>1.066214</td><td>1.069236</td></tr>\n",
              "\t<tr><td>2023</td><td>4</td><td>Rondônia</td><td>Município de Porto Velho (RO)</td><td>NA</td><td>110000016</td><td>1110011</td><td>03</td><td>10</td><td>5</td><td>⋯</td><td>0</td><td>0</td><td>0</td><td>758.6360</td><td>399.4156</td><td>310.5126</td><td>754.6056</td><td>1100000160310</td><td>1.066214</td><td>1.069236</td></tr>\n",
              "\t<tr><td>2023</td><td>4</td><td>Rondônia</td><td>Município de Porto Velho (RO)</td><td>NA</td><td>110000016</td><td>1110011</td><td>03</td><td>10</td><td>5</td><td>⋯</td><td>0</td><td>0</td><td>0</td><td>758.6360</td><td>399.4156</td><td>310.5126</td><td>754.6056</td><td>1100000160310</td><td>1.066214</td><td>1.069236</td></tr>\n",
              "\t<tr><td>2023</td><td>4</td><td>Rondônia</td><td>Município de Porto Velho (RO)</td><td>NA</td><td>110000016</td><td>1110011</td><td>04</td><td>10</td><td>5</td><td>⋯</td><td>0</td><td>0</td><td>0</td><td>529.4532</td><td>277.0949</td><td>230.3452</td><td>541.0158</td><td>1100000160410</td><td>1.066214</td><td>1.069236</td></tr>\n",
              "</tbody>\n",
              "</table>\n"
            ],
            "text/latex": "A tibble: 6 × 423\n\\begin{tabular}{lllllllllllllllllllll}\n Ano & Trimestre & UF & Capital & RM\\_RIDE & UPA & Estrato & V1008 & V1014 & V1016 & ⋯ & V1028194 & V1028195 & V1028196 & V1028197 & V1028198 & V1028199 & V1028200 & ID\\_DOMICILIO & Habitual & Efetivo\\\\\n <chr> & <chr> & <fct> & <fct> & <fct> & <chr> & <chr> & <chr> & <chr> & <chr> & ⋯ & <dbl> & <dbl> & <dbl> & <dbl> & <dbl> & <dbl> & <dbl> & <chr> & <dbl> & <dbl>\\\\\n\\hline\n\t 2023 & 4 & Rondônia & Município de Porto Velho (RO) & NA & 110000016 & 1110011 & 01 & 10 & 5 & ⋯ & 0 & 0 & 0 & 674.4751 & 358.9703 & 292.6587 & 690.8893 & 1100000160110 & 1.066214 & 1.069236\\\\\n\t 2023 & 4 & Rondônia & Município de Porto Velho (RO) & NA & 110000016 & 1110011 & 01 & 10 & 5 & ⋯ & 0 & 0 & 0 & 674.4751 & 358.9703 & 292.6587 & 690.8893 & 1100000160110 & 1.066214 & 1.069236\\\\\n\t 2023 & 4 & Rondônia & Município de Porto Velho (RO) & NA & 110000016 & 1110011 & 02 & 10 & 5 & ⋯ & 0 & 0 & 0 & 378.2262 & 197.1772 & 158.5968 & 357.2602 & 1100000160210 & 1.066214 & 1.069236\\\\\n\t 2023 & 4 & Rondônia & Município de Porto Velho (RO) & NA & 110000016 & 1110011 & 03 & 10 & 5 & ⋯ & 0 & 0 & 0 & 758.6360 & 399.4156 & 310.5126 & 754.6056 & 1100000160310 & 1.066214 & 1.069236\\\\\n\t 2023 & 4 & Rondônia & Município de Porto Velho (RO) & NA & 110000016 & 1110011 & 03 & 10 & 5 & ⋯ & 0 & 0 & 0 & 758.6360 & 399.4156 & 310.5126 & 754.6056 & 1100000160310 & 1.066214 & 1.069236\\\\\n\t 2023 & 4 & Rondônia & Município de Porto Velho (RO) & NA & 110000016 & 1110011 & 04 & 10 & 5 & ⋯ & 0 & 0 & 0 & 529.4532 & 277.0949 & 230.3452 & 541.0158 & 1100000160410 & 1.066214 & 1.069236\\\\\n\\end{tabular}\n",
            "text/markdown": "\nA tibble: 6 × 423\n\n| Ano &lt;chr&gt; | Trimestre &lt;chr&gt; | UF &lt;fct&gt; | Capital &lt;fct&gt; | RM_RIDE &lt;fct&gt; | UPA &lt;chr&gt; | Estrato &lt;chr&gt; | V1008 &lt;chr&gt; | V1014 &lt;chr&gt; | V1016 &lt;chr&gt; | ⋯ ⋯ | V1028194 &lt;dbl&gt; | V1028195 &lt;dbl&gt; | V1028196 &lt;dbl&gt; | V1028197 &lt;dbl&gt; | V1028198 &lt;dbl&gt; | V1028199 &lt;dbl&gt; | V1028200 &lt;dbl&gt; | ID_DOMICILIO &lt;chr&gt; | Habitual &lt;dbl&gt; | Efetivo &lt;dbl&gt; |\n|---|---|---|---|---|---|---|---|---|---|---|---|---|---|---|---|---|---|---|---|---|\n| 2023 | 4 | Rondônia | Município de Porto Velho (RO) | NA | 110000016 | 1110011 | 01 | 10 | 5 | ⋯ | 0 | 0 | 0 | 674.4751 | 358.9703 | 292.6587 | 690.8893 | 1100000160110 | 1.066214 | 1.069236 |\n| 2023 | 4 | Rondônia | Município de Porto Velho (RO) | NA | 110000016 | 1110011 | 01 | 10 | 5 | ⋯ | 0 | 0 | 0 | 674.4751 | 358.9703 | 292.6587 | 690.8893 | 1100000160110 | 1.066214 | 1.069236 |\n| 2023 | 4 | Rondônia | Município de Porto Velho (RO) | NA | 110000016 | 1110011 | 02 | 10 | 5 | ⋯ | 0 | 0 | 0 | 378.2262 | 197.1772 | 158.5968 | 357.2602 | 1100000160210 | 1.066214 | 1.069236 |\n| 2023 | 4 | Rondônia | Município de Porto Velho (RO) | NA | 110000016 | 1110011 | 03 | 10 | 5 | ⋯ | 0 | 0 | 0 | 758.6360 | 399.4156 | 310.5126 | 754.6056 | 1100000160310 | 1.066214 | 1.069236 |\n| 2023 | 4 | Rondônia | Município de Porto Velho (RO) | NA | 110000016 | 1110011 | 03 | 10 | 5 | ⋯ | 0 | 0 | 0 | 758.6360 | 399.4156 | 310.5126 | 754.6056 | 1100000160310 | 1.066214 | 1.069236 |\n| 2023 | 4 | Rondônia | Município de Porto Velho (RO) | NA | 110000016 | 1110011 | 04 | 10 | 5 | ⋯ | 0 | 0 | 0 | 529.4532 | 277.0949 | 230.3452 | 541.0158 | 1100000160410 | 1.066214 | 1.069236 |\n\n",
            "text/plain": [
              "  Ano  Trimestre UF       Capital                       RM_RIDE UPA      \n",
              "1 2023 4         Rondônia Município de Porto Velho (RO) NA      110000016\n",
              "2 2023 4         Rondônia Município de Porto Velho (RO) NA      110000016\n",
              "3 2023 4         Rondônia Município de Porto Velho (RO) NA      110000016\n",
              "4 2023 4         Rondônia Município de Porto Velho (RO) NA      110000016\n",
              "5 2023 4         Rondônia Município de Porto Velho (RO) NA      110000016\n",
              "6 2023 4         Rondônia Município de Porto Velho (RO) NA      110000016\n",
              "  Estrato V1008 V1014 V1016 ⋯ V1028194 V1028195 V1028196 V1028197 V1028198\n",
              "1 1110011 01    10    5     ⋯ 0        0        0        674.4751 358.9703\n",
              "2 1110011 01    10    5     ⋯ 0        0        0        674.4751 358.9703\n",
              "3 1110011 02    10    5     ⋯ 0        0        0        378.2262 197.1772\n",
              "4 1110011 03    10    5     ⋯ 0        0        0        758.6360 399.4156\n",
              "5 1110011 03    10    5     ⋯ 0        0        0        758.6360 399.4156\n",
              "6 1110011 04    10    5     ⋯ 0        0        0        529.4532 277.0949\n",
              "  V1028199 V1028200 ID_DOMICILIO  Habitual Efetivo \n",
              "1 292.6587 690.8893 1100000160110 1.066214 1.069236\n",
              "2 292.6587 690.8893 1100000160110 1.066214 1.069236\n",
              "3 158.5968 357.2602 1100000160210 1.066214 1.069236\n",
              "4 310.5126 754.6056 1100000160310 1.066214 1.069236\n",
              "5 310.5126 754.6056 1100000160310 1.066214 1.069236\n",
              "6 230.3452 541.0158 1100000160410 1.066214 1.069236"
            ]
          },
          "metadata": {},
          "output_type": "display_data"
        }
      ],
      "source": [
        "head(dados_2023_4)"
      ]
    }
  ],
  "metadata": {
    "colab": {
      "collapsed_sections": [
        "vmx6boUiMPwH"
      ],
      "provenance": [],
      "authorship_tag": "ABX9TyMhNrSouq4MIWWMLaCcXy/p",
      "include_colab_link": true
    },
    "kernelspec": {
      "display_name": "R",
      "name": "ir"
    },
    "language_info": {
      "name": "R"
    }
  },
  "nbformat": 4,
  "nbformat_minor": 0
}